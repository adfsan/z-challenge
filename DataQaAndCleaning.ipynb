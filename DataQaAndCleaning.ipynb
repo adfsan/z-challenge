{
 "cells": [
  {
   "cell_type": "markdown",
   "metadata": {},
   "source": [
    "# Data QA and Cleaning"
   ]
  },
  {
   "cell_type": "markdown",
   "metadata": {},
   "source": [
    "In this notebook I'm going to check if there are any evident weird values as well as basic QA.\n",
    "\n",
    "For this case we're going to compute most of the stuff with SQL so we don't need to load the tables into the notebook and reuse the SQL files."
   ]
  },
  {
   "cell_type": "code",
   "execution_count": 1,
   "metadata": {},
   "outputs": [],
   "source": [
    "# Imports\n",
    "import pandas as pd\n",
    "import ftfy\n",
    "from PsqlConn import create_psql_engine"
   ]
  },
  {
   "cell_type": "code",
   "execution_count": 2,
   "metadata": {},
   "outputs": [],
   "source": [
    "# Useful functions\n",
    "def check_field_counts(engine, base_query, table_list, column=None):\n",
    "    \"\"\"\n",
    "    Count unique colum fields\n",
    "    \"\"\"\n",
    "    for table in table_list:\n",
    "        distinct_field_count = pd.read_sql_query(base_query.format(table=table, column = column), engine).iloc[0,0]\n",
    "        print(f'For table {table} we have:\\nNumber of distinct {column}: {distinct_field_count}\\n')"
   ]
  },
  {
   "cell_type": "code",
   "execution_count": 3,
   "metadata": {},
   "outputs": [],
   "source": [
    "# Create engine for connection\n",
    "engine=create_psql_engine()"
   ]
  },
  {
   "cell_type": "markdown",
   "metadata": {},
   "source": [
    "______________"
   ]
  },
  {
   "cell_type": "markdown",
   "metadata": {},
   "source": [
    "## Check time interval of the sample"
   ]
  },
  {
   "cell_type": "code",
   "execution_count": 4,
   "metadata": {},
   "outputs": [
    {
     "name": "stdout",
     "output_type": "stream",
     "text": [
      "Time range for accessedat for table content_access\n"
     ]
    },
    {
     "data": {
      "text/html": [
       "<div>\n",
       "<style scoped>\n",
       "    .dataframe tbody tr th:only-of-type {\n",
       "        vertical-align: middle;\n",
       "    }\n",
       "\n",
       "    .dataframe tbody tr th {\n",
       "        vertical-align: top;\n",
       "    }\n",
       "\n",
       "    .dataframe thead th {\n",
       "        text-align: right;\n",
       "    }\n",
       "</style>\n",
       "<table border=\"1\" class=\"dataframe\">\n",
       "  <thead>\n",
       "    <tr style=\"text-align: right;\">\n",
       "      <th></th>\n",
       "      <th>max</th>\n",
       "      <th>min</th>\n",
       "    </tr>\n",
       "  </thead>\n",
       "  <tbody>\n",
       "    <tr>\n",
       "      <th>0</th>\n",
       "      <td>2020-01-31 23:59:55</td>\n",
       "      <td>2020-01-01 12:00:03</td>\n",
       "    </tr>\n",
       "  </tbody>\n",
       "</table>\n",
       "</div>"
      ],
      "text/plain": [
       "                  max                 min\n",
       "0 2020-01-31 23:59:55 2020-01-01 12:00:03"
      ]
     },
     "metadata": {},
     "output_type": "display_data"
    },
    {
     "name": "stdout",
     "output_type": "stream",
     "text": [
      "Time range for displayedat for table content_display\n"
     ]
    },
    {
     "data": {
      "text/html": [
       "<div>\n",
       "<style scoped>\n",
       "    .dataframe tbody tr th:only-of-type {\n",
       "        vertical-align: middle;\n",
       "    }\n",
       "\n",
       "    .dataframe tbody tr th {\n",
       "        vertical-align: top;\n",
       "    }\n",
       "\n",
       "    .dataframe thead th {\n",
       "        text-align: right;\n",
       "    }\n",
       "</style>\n",
       "<table border=\"1\" class=\"dataframe\">\n",
       "  <thead>\n",
       "    <tr style=\"text-align: right;\">\n",
       "      <th></th>\n",
       "      <th>max</th>\n",
       "      <th>min</th>\n",
       "    </tr>\n",
       "  </thead>\n",
       "  <tbody>\n",
       "    <tr>\n",
       "      <th>0</th>\n",
       "      <td>2020-01-31 23:59:51</td>\n",
       "      <td>2020-01-01 12:00:03</td>\n",
       "    </tr>\n",
       "  </tbody>\n",
       "</table>\n",
       "</div>"
      ],
      "text/plain": [
       "                  max                 min\n",
       "0 2020-01-31 23:59:51 2020-01-01 12:00:03"
      ]
     },
     "metadata": {},
     "output_type": "display_data"
    }
   ],
   "source": [
    "# Tables with timestamps\n",
    "timestamp_dict={'content_access':'accessedat',\n",
    "               'content_display':'displayedat',\n",
    "               }\n",
    "\n",
    "# Fetch timestamp query\n",
    "with open('simples_table_checks/get_max_min_timestamp.sql', 'r') as file:\n",
    "    timestamp_query = file.read()\n",
    "\n",
    "# Run query for timestamp_dict tables\n",
    "for table in timestamp_dict:\n",
    "    print(f'Time range for {timestamp_dict[table]} for table {table}')\n",
    "    display(pd.read_sql_query(timestamp_query.format(timestamp_column=timestamp_dict[table], table=table), engine).head(1))"
   ]
  },
  {
   "cell_type": "markdown",
   "metadata": {},
   "source": [
    "________________"
   ]
  },
  {
   "cell_type": "markdown",
   "metadata": {},
   "source": [
    "## Check tables size and coeherence"
   ]
  },
  {
   "cell_type": "code",
   "execution_count": 5,
   "metadata": {},
   "outputs": [],
   "source": [
    "# Fetch count querys\n",
    "with open('simples_table_checks/get_row_number.sql') as file:\n",
    "    row_number_query=file.read()\n",
    "    \n",
    "with open('simples_table_checks/get_distinct_row_number.sql') as file:\n",
    "    distinct_row_number_query=file.read()\n",
    "    \n",
    "with open('simples_table_checks/get_distinct_count_field.sql') as file:\n",
    "    distinct_field_count_query=file.read()"
   ]
  },
  {
   "cell_type": "code",
   "execution_count": 6,
   "metadata": {},
   "outputs": [
    {
     "name": "stdout",
     "output_type": "stream",
     "text": [
      "For table companies we have:\n",
      "Number of rows: 4\n",
      "Number of distinct rows: 4\n",
      "Number of distinct ids: 4\n",
      "\n",
      "For table content we have:\n",
      "Number of rows: 54\n",
      "Number of distinct rows: 54\n",
      "Number of distinct ids: 54\n",
      "\n",
      "For table content_access we have:\n",
      "Number of rows: 200000\n",
      "Number of distinct rows: 200000\n",
      "Number of distinct ids: 200000\n",
      "\n",
      "For table content_display we have:\n",
      "Number of rows: 400000\n",
      "Number of distinct rows: 400000\n",
      "Number of distinct ids: 400000\n",
      "\n",
      "For table industries we have:\n",
      "Number of rows: 4\n",
      "Number of distinct rows: 4\n",
      "Number of distinct ids: 4\n",
      "\n",
      "For table moodtracker we have:\n",
      "Number of rows: 100000\n",
      "Number of distinct rows: 100000\n",
      "Number of distinct ids: 100000\n",
      "\n",
      "For table reasons we have:\n",
      "Number of rows: 115\n",
      "Number of distinct rows: 115\n",
      "Number of distinct ids: 115\n",
      "\n",
      "For table users we have:\n",
      "Number of rows: 2000\n",
      "Number of distinct rows: 2000\n",
      "Number of distinct ids: 2000\n",
      "\n"
     ]
    }
   ],
   "source": [
    "# Check tables for duplicate rows or IDs\n",
    "table_list = ['companies', 'content', 'content_access', 'content_display', 'industries', 'moodtracker','reasons', 'users']\n",
    "\n",
    "for table in table_list:\n",
    "    row_num = pd.read_sql_query(row_number_query.format(table=table), engine).iloc[0,0]\n",
    "    distinct_row_num = pd.read_sql_query(distinct_row_number_query.format(table=table), engine).iloc[0,0]\n",
    "    distinct_id_num = pd.read_sql_query(distinct_field_count_query.format(table=table, column = 'id'), engine).iloc[0,0]\n",
    "    \n",
    "    print(f'For table {table} we have:\\nNumber of rows: {row_num}\\nNumber of distinct rows: {distinct_row_num}\\nNumber of distinct ids: {distinct_id_num}\\n')"
   ]
  },
  {
   "cell_type": "markdown",
   "metadata": {},
   "source": [
    "For all tables seen above the number of rows, distinct rows and ids is the same, suggesting that there are no duplicate rows in any table.\n",
    "\n",
    "Let's now check if the relationship tables have a consistent amount of foreign key values with the entity tables."
   ]
  },
  {
   "cell_type": "code",
   "execution_count": 7,
   "metadata": {},
   "outputs": [
    {
     "name": "stdout",
     "output_type": "stream",
     "text": [
      "For table content_access we have:\n",
      "Number of distinct userid: 2000\n",
      "\n",
      "For table content_display we have:\n",
      "Number of distinct userid: 2000\n",
      "\n",
      "For table moodtracker we have:\n",
      "Number of distinct userid: 2000\n",
      "\n"
     ]
    }
   ],
   "source": [
    "# First we check the number of users\n",
    "table_list = ['content_access', 'content_display', 'moodtracker']\n",
    "check_field_counts(engine, distinct_field_count_query, table_list, 'userid')"
   ]
  },
  {
   "cell_type": "markdown",
   "metadata": {},
   "source": [
    "We get 2000 distinct userid's the same value we get from the user table, so for now this seems ok. Later when we start doing joins, we'll figure out if there is a complete overlap of the user ids between these tables and the users table."
   ]
  },
  {
   "cell_type": "code",
   "execution_count": 8,
   "metadata": {},
   "outputs": [
    {
     "name": "stdout",
     "output_type": "stream",
     "text": [
      "For table content we have:\n",
      "Number of distinct reasonid: 52\n",
      "\n",
      "For table moodtracker we have:\n",
      "Number of distinct reasonid: 52\n",
      "\n"
     ]
    }
   ],
   "source": [
    "# Then we check the reasons\n",
    "table_list = ['content', 'moodtracker']\n",
    "check_field_counts(engine, distinct_field_count_query, table_list, 'reasonid')"
   ]
  },
  {
   "cell_type": "markdown",
   "metadata": {},
   "source": [
    "There's a mismatch here, most likely caused by some reasons not being represented in the sample we have."
   ]
  },
  {
   "cell_type": "code",
   "execution_count": 9,
   "metadata": {},
   "outputs": [
    {
     "name": "stdout",
     "output_type": "stream",
     "text": [
      "For table users we have:\n",
      "Number of distinct companyid: 4\n",
      "\n"
     ]
    }
   ],
   "source": [
    "# Then we check the companies\n",
    "table_list = ['users']\n",
    "check_field_counts(engine, distinct_field_count_query, table_list, 'companyid')"
   ]
  },
  {
   "cell_type": "markdown",
   "metadata": {},
   "source": [
    "Again, the number is consistent with the number of companies we have in the companies table."
   ]
  },
  {
   "cell_type": "code",
   "execution_count": 10,
   "metadata": {},
   "outputs": [
    {
     "name": "stdout",
     "output_type": "stream",
     "text": [
      "For table users we have:\n",
      "Number of distinct industryid: 4\n",
      "\n"
     ]
    }
   ],
   "source": [
    "# Finally we check the industry\n",
    "table_list = ['users']\n",
    "check_field_counts(engine, distinct_field_count_query, table_list, 'industryid')"
   ]
  },
  {
   "cell_type": "markdown",
   "metadata": {},
   "source": [
    "Also consistent, since we have 4 possible different industries."
   ]
  },
  {
   "cell_type": "markdown",
   "metadata": {},
   "source": [
    "__________________"
   ]
  },
  {
   "cell_type": "markdown",
   "metadata": {},
   "source": [
    "## Simple data QA checks"
   ]
  },
  {
   "cell_type": "markdown",
   "metadata": {},
   "source": [
    "We already showed that the dimensions of the tables and the time intervals appear to be consistent between all tables, at least looking at them individually. We now look at the data itself.\n",
    "\n",
    "Most of this exploration was done ad-hoc, so only examples of weird data are going to be presented here.\n",
    "\n",
    "Out of all the tables, the content table was the only to have blatant data issues."
   ]
  },
  {
   "cell_type": "code",
   "execution_count": 11,
   "metadata": {},
   "outputs": [
    {
     "data": {
      "text/html": [
       "<div>\n",
       "<style scoped>\n",
       "    .dataframe tbody tr th:only-of-type {\n",
       "        vertical-align: middle;\n",
       "    }\n",
       "\n",
       "    .dataframe tbody tr th {\n",
       "        vertical-align: top;\n",
       "    }\n",
       "\n",
       "    .dataframe thead th {\n",
       "        text-align: right;\n",
       "    }\n",
       "</style>\n",
       "<table border=\"1\" class=\"dataframe\">\n",
       "  <thead>\n",
       "    <tr style=\"text-align: right;\">\n",
       "      <th></th>\n",
       "      <th>id</th>\n",
       "      <th>title</th>\n",
       "      <th>reasonid</th>\n",
       "    </tr>\n",
       "  </thead>\n",
       "  <tbody>\n",
       "    <tr>\n",
       "      <th>0</th>\n",
       "      <td>83</td>\n",
       "      <td>n√£o seja sempre o culpado de tudo</td>\n",
       "      <td>ObjectId(\"5db17534d0f3fe373559ccbf\")</td>\n",
       "    </tr>\n",
       "    <tr>\n",
       "      <th>1</th>\n",
       "      <td>54</td>\n",
       "      <td>qual o seu n√≠vel de intelig√™ncia emocional?</td>\n",
       "      <td>ObjectId(\"5c6c2a229c79eca733d4dd16\")</td>\n",
       "    </tr>\n",
       "    <tr>\n",
       "      <th>2</th>\n",
       "      <td>72</td>\n",
       "      <td>dicas para aumentar a coragem</td>\n",
       "      <td>ObjectId(\"5c6aa1de9c79eca733d4dbea\")</td>\n",
       "    </tr>\n",
       "    <tr>\n",
       "      <th>3</th>\n",
       "      <td>38</td>\n",
       "      <td>exercite, pratique e compartilhe</td>\n",
       "      <td>ObjectId(\"58335a7b514129a045865b07\")</td>\n",
       "    </tr>\n",
       "    <tr>\n",
       "      <th>4</th>\n",
       "      <td>56</td>\n",
       "      <td>socialização: vocé domina essa arte?</td>\n",
       "      <td>ObjectId(\"57d9dc1ee66d040ed4e496ad\")</td>\n",
       "    </tr>\n",
       "    <tr>\n",
       "      <th>5</th>\n",
       "      <td>69</td>\n",
       "      <td>o segredo da felicidade</td>\n",
       "      <td>5db17534d0f3fe373559cce1</td>\n",
       "    </tr>\n",
       "    <tr>\n",
       "      <th>6</th>\n",
       "      <td>45</td>\n",
       "      <td>aprenda a ser resiliente</td>\n",
       "      <td>5c6c2a2a9c79eca733d4dd23</td>\n",
       "    </tr>\n",
       "    <tr>\n",
       "      <th>7</th>\n",
       "      <td>27</td>\n",
       "      <td>aprenda a se conhecer</td>\n",
       "      <td>5c6c2a289c79eca733d4dd20</td>\n",
       "    </tr>\n",
       "    <tr>\n",
       "      <th>8</th>\n",
       "      <td>78</td>\n",
       "      <td>aprenda a se conhecer</td>\n",
       "      <td>5c6c2a279c79eca733d4dd1e</td>\n",
       "    </tr>\n",
       "    <tr>\n",
       "      <th>9</th>\n",
       "      <td>86</td>\n",
       "      <td>cultive a gratid√£o!</td>\n",
       "      <td>5c6c2a259c79eca733d4dd1b</td>\n",
       "    </tr>\n",
       "  </tbody>\n",
       "</table>\n",
       "</div>"
      ],
      "text/plain": [
       "   id                                          title  \\\n",
       "0  83             n√£o seja sempre o culpado de tudo   \n",
       "1  54  qual o seu n√≠vel de intelig√™ncia emocional?   \n",
       "2  72                  dicas para aumentar a coragem   \n",
       "3  38               exercite, pratique e compartilhe   \n",
       "4  56           socialização: vocé domina essa arte?   \n",
       "5  69                        o segredo da felicidade   \n",
       "6  45                       aprenda a ser resiliente   \n",
       "7  27                          aprenda a se conhecer   \n",
       "8  78                          aprenda a se conhecer   \n",
       "9  86                           cultive a gratid√£o!   \n",
       "\n",
       "                               reasonid  \n",
       "0  ObjectId(\"5db17534d0f3fe373559ccbf\")  \n",
       "1  ObjectId(\"5c6c2a229c79eca733d4dd16\")  \n",
       "2  ObjectId(\"5c6aa1de9c79eca733d4dbea\")  \n",
       "3  ObjectId(\"58335a7b514129a045865b07\")  \n",
       "4  ObjectId(\"57d9dc1ee66d040ed4e496ad\")  \n",
       "5              5db17534d0f3fe373559cce1  \n",
       "6              5c6c2a2a9c79eca733d4dd23  \n",
       "7              5c6c2a289c79eca733d4dd20  \n",
       "8              5c6c2a279c79eca733d4dd1e  \n",
       "9              5c6c2a259c79eca733d4dd1b  "
      ]
     },
     "execution_count": 11,
     "metadata": {},
     "output_type": "execute_result"
    }
   ],
   "source": [
    "# Check #1\n",
    "query1=f'''\n",
    "select distinct *\n",
    "from \"content\" c \n",
    "order by 3 desc;\n",
    "'''\n",
    "pd.read_sql_query(query1, engine).head(10)"
   ]
  },
  {
   "cell_type": "markdown",
   "metadata": {},
   "source": [
    "As we can see above there are 3 evident problems with this table:\n",
    "\n",
    "* The charset used for the title is not compatible with some symbols, so we get botched text. \n",
    "* The reasonid for some rows has junk text around the actual reasonid. This field is also present in the reasons and moodtracker tables, so we should double check those.\n",
    "* There are duplicate values for the title field. We can confirm this by counting the number of distinct values for this field."
   ]
  },
  {
   "cell_type": "code",
   "execution_count": 12,
   "metadata": {},
   "outputs": [
    {
     "name": "stdout",
     "output_type": "stream",
     "text": [
      "For table content we have:\n",
      "Number of distinct title: 47\n",
      "\n"
     ]
    }
   ],
   "source": [
    "# Check duplicate title field\n",
    "table_list = ['content']\n",
    "check_field_counts(engine, distinct_field_count_query, table_list, 'title')"
   ]
  },
  {
   "cell_type": "markdown",
   "metadata": {},
   "source": [
    "So we only have 47 unique titles despite having 54 distinct rows. This means that to actually compute accurate aggregate metrics we will have to fix this. Also, it is possible that there are more duplicate titles, just masked by enconding errors. We will look into this later."
   ]
  },
  {
   "cell_type": "code",
   "execution_count": 13,
   "metadata": {},
   "outputs": [
    {
     "name": "stdout",
     "output_type": "stream",
     "text": [
      "Moodtracker table\n"
     ]
    },
    {
     "data": {
      "text/html": [
       "<div>\n",
       "<style scoped>\n",
       "    .dataframe tbody tr th:only-of-type {\n",
       "        vertical-align: middle;\n",
       "    }\n",
       "\n",
       "    .dataframe tbody tr th {\n",
       "        vertical-align: top;\n",
       "    }\n",
       "\n",
       "    .dataframe thead th {\n",
       "        text-align: right;\n",
       "    }\n",
       "</style>\n",
       "<table border=\"1\" class=\"dataframe\">\n",
       "  <thead>\n",
       "    <tr style=\"text-align: right;\">\n",
       "      <th></th>\n",
       "      <th>id</th>\n",
       "      <th>userid</th>\n",
       "      <th>trackedat</th>\n",
       "      <th>mood</th>\n",
       "      <th>reasonid</th>\n",
       "    </tr>\n",
       "  </thead>\n",
       "  <tbody>\n",
       "    <tr>\n",
       "      <th>0</th>\n",
       "      <td>00079eef-cae8-4d9a-983e-0452044692db</td>\n",
       "      <td>b5f4365d-2187-4b83-b217-d40c677f493a</td>\n",
       "      <td>2020-01-26 22:40:17</td>\n",
       "      <td>sad</td>\n",
       "      <td>ObjectId(\"5db17534d0f3fe373559ccbf\")</td>\n",
       "    </tr>\n",
       "    <tr>\n",
       "      <th>1</th>\n",
       "      <td>002ddcd9-9081-4696-88a7-799b7251ec37</td>\n",
       "      <td>96e43d4f-fa44-49da-b2ce-09a920e8b5ab</td>\n",
       "      <td>2020-01-05 21:55:26</td>\n",
       "      <td>sad</td>\n",
       "      <td>ObjectId(\"5db17534d0f3fe373559ccbf\")</td>\n",
       "    </tr>\n",
       "    <tr>\n",
       "      <th>2</th>\n",
       "      <td>00a86fa2-7af3-4f20-92ff-f6a2ecd938e6</td>\n",
       "      <td>6e6b4152-9a61-43f7-b1fb-ba230620e0ac</td>\n",
       "      <td>2020-01-23 23:46:12</td>\n",
       "      <td>happy</td>\n",
       "      <td>ObjectId(\"5db17534d0f3fe373559ccbf\")</td>\n",
       "    </tr>\n",
       "    <tr>\n",
       "      <th>3</th>\n",
       "      <td>00f3ca5a-45e5-4041-88a8-5e134be29f1b</td>\n",
       "      <td>887bbeb2-874c-4ed4-bbed-90875b3243c5</td>\n",
       "      <td>2020-01-28 02:58:10</td>\n",
       "      <td>sad</td>\n",
       "      <td>ObjectId(\"5db17534d0f3fe373559ccbf\")</td>\n",
       "    </tr>\n",
       "    <tr>\n",
       "      <th>4</th>\n",
       "      <td>0108a4d4-692c-49d9-9ce8-35d66e32a3c1</td>\n",
       "      <td>ad15162d-d3df-4595-a056-fe0004b2f3ec</td>\n",
       "      <td>2020-01-24 12:38:56</td>\n",
       "      <td>super-happy</td>\n",
       "      <td>ObjectId(\"5db17534d0f3fe373559ccbf\")</td>\n",
       "    </tr>\n",
       "    <tr>\n",
       "      <th>5</th>\n",
       "      <td>01599c5e-87a7-4f1c-b96a-f0d88009a05c</td>\n",
       "      <td>0ce0629c-913c-410e-874c-90cdf71aa444</td>\n",
       "      <td>2020-01-11 19:03:59</td>\n",
       "      <td>sad</td>\n",
       "      <td>ObjectId(\"5db17534d0f3fe373559ccbf\")</td>\n",
       "    </tr>\n",
       "    <tr>\n",
       "      <th>6</th>\n",
       "      <td>02867fe6-bcbc-47e4-9ad8-cf599bcee564</td>\n",
       "      <td>38f17d27-57ae-4bca-a292-c19bae1134bf</td>\n",
       "      <td>2020-01-14 17:10:54</td>\n",
       "      <td>ok</td>\n",
       "      <td>ObjectId(\"5db17534d0f3fe373559ccbf\")</td>\n",
       "    </tr>\n",
       "    <tr>\n",
       "      <th>7</th>\n",
       "      <td>029b45c2-74c9-4529-a584-dbe75b67e829</td>\n",
       "      <td>65422eb2-dcdf-47a2-ac65-5c7040b596ea</td>\n",
       "      <td>2020-01-20 17:08:01</td>\n",
       "      <td>super-happy</td>\n",
       "      <td>ObjectId(\"5db17534d0f3fe373559ccbf\")</td>\n",
       "    </tr>\n",
       "    <tr>\n",
       "      <th>8</th>\n",
       "      <td>02bc0eb1-b76c-4777-80bb-c23c1e87d129</td>\n",
       "      <td>e55c659d-6d83-41d2-8f00-1443e137bfff</td>\n",
       "      <td>2020-01-24 22:16:20</td>\n",
       "      <td>ok</td>\n",
       "      <td>ObjectId(\"5db17534d0f3fe373559ccbf\")</td>\n",
       "    </tr>\n",
       "    <tr>\n",
       "      <th>9</th>\n",
       "      <td>032e575b-8036-4428-a4b7-81ff964d37c7</td>\n",
       "      <td>faf012a1-7f78-434a-8ea6-18690002aaa8</td>\n",
       "      <td>2020-01-10 18:45:34</td>\n",
       "      <td>happy</td>\n",
       "      <td>ObjectId(\"5db17534d0f3fe373559ccbf\")</td>\n",
       "    </tr>\n",
       "  </tbody>\n",
       "</table>\n",
       "</div>"
      ],
      "text/plain": [
       "                                     id                                userid  \\\n",
       "0  00079eef-cae8-4d9a-983e-0452044692db  b5f4365d-2187-4b83-b217-d40c677f493a   \n",
       "1  002ddcd9-9081-4696-88a7-799b7251ec37  96e43d4f-fa44-49da-b2ce-09a920e8b5ab   \n",
       "2  00a86fa2-7af3-4f20-92ff-f6a2ecd938e6  6e6b4152-9a61-43f7-b1fb-ba230620e0ac   \n",
       "3  00f3ca5a-45e5-4041-88a8-5e134be29f1b  887bbeb2-874c-4ed4-bbed-90875b3243c5   \n",
       "4  0108a4d4-692c-49d9-9ce8-35d66e32a3c1  ad15162d-d3df-4595-a056-fe0004b2f3ec   \n",
       "5  01599c5e-87a7-4f1c-b96a-f0d88009a05c  0ce0629c-913c-410e-874c-90cdf71aa444   \n",
       "6  02867fe6-bcbc-47e4-9ad8-cf599bcee564  38f17d27-57ae-4bca-a292-c19bae1134bf   \n",
       "7  029b45c2-74c9-4529-a584-dbe75b67e829  65422eb2-dcdf-47a2-ac65-5c7040b596ea   \n",
       "8  02bc0eb1-b76c-4777-80bb-c23c1e87d129  e55c659d-6d83-41d2-8f00-1443e137bfff   \n",
       "9  032e575b-8036-4428-a4b7-81ff964d37c7  faf012a1-7f78-434a-8ea6-18690002aaa8   \n",
       "\n",
       "             trackedat         mood                              reasonid  \n",
       "0  2020-01-26 22:40:17          sad  ObjectId(\"5db17534d0f3fe373559ccbf\")  \n",
       "1  2020-01-05 21:55:26          sad  ObjectId(\"5db17534d0f3fe373559ccbf\")  \n",
       "2  2020-01-23 23:46:12        happy  ObjectId(\"5db17534d0f3fe373559ccbf\")  \n",
       "3  2020-01-28 02:58:10          sad  ObjectId(\"5db17534d0f3fe373559ccbf\")  \n",
       "4  2020-01-24 12:38:56  super-happy  ObjectId(\"5db17534d0f3fe373559ccbf\")  \n",
       "5  2020-01-11 19:03:59          sad  ObjectId(\"5db17534d0f3fe373559ccbf\")  \n",
       "6  2020-01-14 17:10:54           ok  ObjectId(\"5db17534d0f3fe373559ccbf\")  \n",
       "7  2020-01-20 17:08:01  super-happy  ObjectId(\"5db17534d0f3fe373559ccbf\")  \n",
       "8  2020-01-24 22:16:20           ok  ObjectId(\"5db17534d0f3fe373559ccbf\")  \n",
       "9  2020-01-10 18:45:34        happy  ObjectId(\"5db17534d0f3fe373559ccbf\")  "
      ]
     },
     "metadata": {},
     "output_type": "display_data"
    },
    {
     "name": "stdout",
     "output_type": "stream",
     "text": [
      "Reasons table\n"
     ]
    },
    {
     "data": {
      "text/html": [
       "<div>\n",
       "<style scoped>\n",
       "    .dataframe tbody tr th:only-of-type {\n",
       "        vertical-align: middle;\n",
       "    }\n",
       "\n",
       "    .dataframe tbody tr th {\n",
       "        vertical-align: top;\n",
       "    }\n",
       "\n",
       "    .dataframe thead th {\n",
       "        text-align: right;\n",
       "    }\n",
       "</style>\n",
       "<table border=\"1\" class=\"dataframe\">\n",
       "  <thead>\n",
       "    <tr style=\"text-align: right;\">\n",
       "      <th></th>\n",
       "      <th>id</th>\n",
       "      <th>name</th>\n",
       "    </tr>\n",
       "  </thead>\n",
       "  <tbody>\n",
       "    <tr>\n",
       "      <th>0</th>\n",
       "      <td>5db17534d0f3fe373559cd02</td>\n",
       "      <td>Xenofobia</td>\n",
       "    </tr>\n",
       "    <tr>\n",
       "      <th>1</th>\n",
       "      <td>5db17534d0f3fe373559ccf5</td>\n",
       "      <td>Intolerância religiosa</td>\n",
       "    </tr>\n",
       "    <tr>\n",
       "      <th>2</th>\n",
       "      <td>5db17534d0f3fe373559cce1</td>\n",
       "      <td>Assédio moral</td>\n",
       "    </tr>\n",
       "    <tr>\n",
       "      <th>3</th>\n",
       "      <td>5db17534d0f3fe373559ccce</td>\n",
       "      <td>Racismo</td>\n",
       "    </tr>\n",
       "    <tr>\n",
       "      <th>4</th>\n",
       "      <td>5db17534d0f3fe373559ccbf</td>\n",
       "      <td>LGBTI+</td>\n",
       "    </tr>\n",
       "    <tr>\n",
       "      <th>...</th>\n",
       "      <td>...</td>\n",
       "      <td>...</td>\n",
       "    </tr>\n",
       "    <tr>\n",
       "      <th>110</th>\n",
       "      <td>57d9dc1ce66d040ed4e4969c</td>\n",
       "      <td>Anorexia</td>\n",
       "    </tr>\n",
       "    <tr>\n",
       "      <th>111</th>\n",
       "      <td>57d9dc1ce66d040ed4e4969b</td>\n",
       "      <td>Agressividade</td>\n",
       "    </tr>\n",
       "    <tr>\n",
       "      <th>112</th>\n",
       "      <td>57d9dc1ce66d040ed4e4969a</td>\n",
       "      <td>Agressão</td>\n",
       "    </tr>\n",
       "    <tr>\n",
       "      <th>113</th>\n",
       "      <td>57d9dc1ce66d040ed4e49699</td>\n",
       "      <td>Adoção de Filhos</td>\n",
       "    </tr>\n",
       "    <tr>\n",
       "      <th>114</th>\n",
       "      <td>57d9dc1ce66d040ed4e49698</td>\n",
       "      <td>Abuso Sexual</td>\n",
       "    </tr>\n",
       "  </tbody>\n",
       "</table>\n",
       "<p>115 rows × 2 columns</p>\n",
       "</div>"
      ],
      "text/plain": [
       "                           id                    name\n",
       "0    5db17534d0f3fe373559cd02               Xenofobia\n",
       "1    5db17534d0f3fe373559ccf5  Intolerância religiosa\n",
       "2    5db17534d0f3fe373559cce1           Assédio moral\n",
       "3    5db17534d0f3fe373559ccce                 Racismo\n",
       "4    5db17534d0f3fe373559ccbf                  LGBTI+\n",
       "..                        ...                     ...\n",
       "110  57d9dc1ce66d040ed4e4969c                Anorexia\n",
       "111  57d9dc1ce66d040ed4e4969b           Agressividade\n",
       "112  57d9dc1ce66d040ed4e4969a                Agressão\n",
       "113  57d9dc1ce66d040ed4e49699        Adoção de Filhos\n",
       "114  57d9dc1ce66d040ed4e49698            Abuso Sexual\n",
       "\n",
       "[115 rows x 2 columns]"
      ]
     },
     "metadata": {},
     "output_type": "display_data"
    }
   ],
   "source": [
    "# Check dirty reasonids\n",
    "query2 = f'''\n",
    "select distinct *\n",
    "from moodtracker m\n",
    "order by reasonid desc\n",
    "limit 10;\n",
    "'''\n",
    "print('Moodtracker table')\n",
    "display(pd.read_sql_query(query2, engine))\n",
    "\n",
    "query3 = f'''\n",
    "select distinct *\n",
    "from reasons r\n",
    "order by id desc;\n",
    "'''\n",
    "print('Reasons table')\n",
    "display(pd.read_sql_query(query3, engine))"
   ]
  },
  {
   "cell_type": "markdown",
   "metadata": {},
   "source": [
    "So the reasonid is \"dirty\" in the moodtracker table as well, but it doesn't seem to be in the reasons table. Let's look for the id in `ObjectId(\"5db17534d0f3fe373559ccbf\")` in the reasons table and in the moodtracker and contents tables."
   ]
  },
  {
   "cell_type": "code",
   "execution_count": 14,
   "metadata": {},
   "outputs": [
    {
     "name": "stdout",
     "output_type": "stream",
     "text": [
      "Reasons table\n"
     ]
    },
    {
     "data": {
      "text/html": [
       "<div>\n",
       "<style scoped>\n",
       "    .dataframe tbody tr th:only-of-type {\n",
       "        vertical-align: middle;\n",
       "    }\n",
       "\n",
       "    .dataframe tbody tr th {\n",
       "        vertical-align: top;\n",
       "    }\n",
       "\n",
       "    .dataframe thead th {\n",
       "        text-align: right;\n",
       "    }\n",
       "</style>\n",
       "<table border=\"1\" class=\"dataframe\">\n",
       "  <thead>\n",
       "    <tr style=\"text-align: right;\">\n",
       "      <th></th>\n",
       "      <th>id</th>\n",
       "      <th>name</th>\n",
       "    </tr>\n",
       "  </thead>\n",
       "  <tbody>\n",
       "    <tr>\n",
       "      <th>0</th>\n",
       "      <td>5db17534d0f3fe373559ccbf</td>\n",
       "      <td>LGBTI+</td>\n",
       "    </tr>\n",
       "  </tbody>\n",
       "</table>\n",
       "</div>"
      ],
      "text/plain": [
       "                         id    name\n",
       "0  5db17534d0f3fe373559ccbf  LGBTI+"
      ]
     },
     "metadata": {},
     "output_type": "display_data"
    }
   ],
   "source": [
    "query4 = f'''\n",
    "select distinct *\n",
    "from reasons r\n",
    "where id = '5db17534d0f3fe373559ccbf'\n",
    "order by id desc;\n",
    "'''\n",
    "print('Reasons table')\n",
    "display(pd.read_sql_query(query4, engine))"
   ]
  },
  {
   "cell_type": "code",
   "execution_count": 15,
   "metadata": {},
   "outputs": [
    {
     "name": "stdout",
     "output_type": "stream",
     "text": [
      "Moodtracker table\n"
     ]
    },
    {
     "data": {
      "text/html": [
       "<div>\n",
       "<style scoped>\n",
       "    .dataframe tbody tr th:only-of-type {\n",
       "        vertical-align: middle;\n",
       "    }\n",
       "\n",
       "    .dataframe tbody tr th {\n",
       "        vertical-align: top;\n",
       "    }\n",
       "\n",
       "    .dataframe thead th {\n",
       "        text-align: right;\n",
       "    }\n",
       "</style>\n",
       "<table border=\"1\" class=\"dataframe\">\n",
       "  <thead>\n",
       "    <tr style=\"text-align: right;\">\n",
       "      <th></th>\n",
       "      <th>reasonid</th>\n",
       "    </tr>\n",
       "  </thead>\n",
       "  <tbody>\n",
       "    <tr>\n",
       "      <th>0</th>\n",
       "      <td>ObjectId(\"5db17534d0f3fe373559ccbf\")</td>\n",
       "    </tr>\n",
       "  </tbody>\n",
       "</table>\n",
       "</div>"
      ],
      "text/plain": [
       "                               reasonid\n",
       "0  ObjectId(\"5db17534d0f3fe373559ccbf\")"
      ]
     },
     "metadata": {},
     "output_type": "display_data"
    }
   ],
   "source": [
    "query5 = f'''\n",
    "select distinct reasonid\n",
    "from moodtracker m\n",
    "where reasonid like '%%5db17534d0f3fe373559ccbf%%'\n",
    "order by reasonid desc\n",
    "limit 10;\n",
    "'''\n",
    "print('Moodtracker table')\n",
    "display(pd.read_sql_query(query5, engine))"
   ]
  },
  {
   "cell_type": "code",
   "execution_count": 16,
   "metadata": {},
   "outputs": [
    {
     "name": "stdout",
     "output_type": "stream",
     "text": [
      "Content table\n"
     ]
    },
    {
     "data": {
      "text/html": [
       "<div>\n",
       "<style scoped>\n",
       "    .dataframe tbody tr th:only-of-type {\n",
       "        vertical-align: middle;\n",
       "    }\n",
       "\n",
       "    .dataframe tbody tr th {\n",
       "        vertical-align: top;\n",
       "    }\n",
       "\n",
       "    .dataframe thead th {\n",
       "        text-align: right;\n",
       "    }\n",
       "</style>\n",
       "<table border=\"1\" class=\"dataframe\">\n",
       "  <thead>\n",
       "    <tr style=\"text-align: right;\">\n",
       "      <th></th>\n",
       "      <th>reasonid</th>\n",
       "    </tr>\n",
       "  </thead>\n",
       "  <tbody>\n",
       "    <tr>\n",
       "      <th>0</th>\n",
       "      <td>ObjectId(\"5db17534d0f3fe373559ccbf\")</td>\n",
       "    </tr>\n",
       "  </tbody>\n",
       "</table>\n",
       "</div>"
      ],
      "text/plain": [
       "                               reasonid\n",
       "0  ObjectId(\"5db17534d0f3fe373559ccbf\")"
      ]
     },
     "metadata": {},
     "output_type": "display_data"
    }
   ],
   "source": [
    "query5 = f'''\n",
    "select distinct reasonid\n",
    "from content c\n",
    "where reasonid like '%%5db17534d0f3fe373559ccbf%%'\n",
    "order by reasonid desc\n",
    "limit 10;\n",
    "'''\n",
    "print('Content table')\n",
    "display(pd.read_sql_query(query5, engine))"
   ]
  },
  {
   "cell_type": "markdown",
   "metadata": {},
   "source": [
    "It looks like for this example the reasons table is correct, and only the moodtracker and content tables have to be fixed."
   ]
  },
  {
   "cell_type": "markdown",
   "metadata": {},
   "source": [
    "__________________\n",
    "## Clean database tables"
   ]
  },
  {
   "cell_type": "markdown",
   "metadata": {},
   "source": [
    "In this section we are going to clean the \"dirty\" data identified previously.\n",
    "\n",
    "* We'll start by cleaning the reasonid on the moodtracker tables. \n",
    "* Then we'll clean the the reasonid in the content table.\n",
    "* Finally we'll clean the title field in the content table."
   ]
  },
  {
   "cell_type": "markdown",
   "metadata": {},
   "source": [
    "### Moodtracker table"
   ]
  },
  {
   "cell_type": "code",
   "execution_count": 19,
   "metadata": {},
   "outputs": [
    {
     "data": {
      "text/html": [
       "<div>\n",
       "<style scoped>\n",
       "    .dataframe tbody tr th:only-of-type {\n",
       "        vertical-align: middle;\n",
       "    }\n",
       "\n",
       "    .dataframe tbody tr th {\n",
       "        vertical-align: top;\n",
       "    }\n",
       "\n",
       "    .dataframe thead th {\n",
       "        text-align: right;\n",
       "    }\n",
       "</style>\n",
       "<table border=\"1\" class=\"dataframe\">\n",
       "  <thead>\n",
       "    <tr style=\"text-align: right;\">\n",
       "      <th></th>\n",
       "      <th>id</th>\n",
       "      <th>userid</th>\n",
       "      <th>trackedat</th>\n",
       "      <th>mood</th>\n",
       "      <th>reasonid</th>\n",
       "    </tr>\n",
       "  </thead>\n",
       "  <tbody>\n",
       "    <tr>\n",
       "      <th>0</th>\n",
       "      <td>f0ed2548-dc73-45be-ac19-005331bfdd70</td>\n",
       "      <td>05733a01-7fda-4295-8ca4-1962ec5df898</td>\n",
       "      <td>2020-01-09 02:55:06</td>\n",
       "      <td>ok</td>\n",
       "      <td>57d9dc1ee66d040ed4e496a9</td>\n",
       "    </tr>\n",
       "    <tr>\n",
       "      <th>1</th>\n",
       "      <td>5bc270e5-2293-4eb6-b760-e2ef9e44daa2</td>\n",
       "      <td>57ccba4e-8df5-4d6e-a791-e47311196f0f</td>\n",
       "      <td>2020-01-15 15:54:53</td>\n",
       "      <td>angry</td>\n",
       "      <td>57db1d11e66d090e6410b868</td>\n",
       "    </tr>\n",
       "    <tr>\n",
       "      <th>2</th>\n",
       "      <td>394fb904-8c96-45e2-836e-2efdaa167c1a</td>\n",
       "      <td>5706369b-f2e5-4960-a45f-4aa22161fa3b</td>\n",
       "      <td>2020-01-22 01:39:22</td>\n",
       "      <td>angry</td>\n",
       "      <td>5c6c2a2a9c79eca733d4dd23</td>\n",
       "    </tr>\n",
       "    <tr>\n",
       "      <th>3</th>\n",
       "      <td>c5ede79a-f474-4a96-a6b4-0ec8119d9f73</td>\n",
       "      <td>e0be2515-b159-4dcb-9e50-85de5acefe6b</td>\n",
       "      <td>2020-01-31 12:52:46</td>\n",
       "      <td>happy</td>\n",
       "      <td>57d9dc21e66d040ed4e496c7</td>\n",
       "    </tr>\n",
       "    <tr>\n",
       "      <th>4</th>\n",
       "      <td>fa45550d-6a9c-4e8e-90e6-d73cc7202179</td>\n",
       "      <td>908138a6-fc5b-42cf-8cd4-0ac5ce0bdb1c</td>\n",
       "      <td>2020-01-09 19:50:06</td>\n",
       "      <td>ok</td>\n",
       "      <td>ObjectId(\"5c6c2a229c79eca733d4dd16\")</td>\n",
       "    </tr>\n",
       "  </tbody>\n",
       "</table>\n",
       "</div>"
      ],
      "text/plain": [
       "                                     id                                userid  \\\n",
       "0  f0ed2548-dc73-45be-ac19-005331bfdd70  05733a01-7fda-4295-8ca4-1962ec5df898   \n",
       "1  5bc270e5-2293-4eb6-b760-e2ef9e44daa2  57ccba4e-8df5-4d6e-a791-e47311196f0f   \n",
       "2  394fb904-8c96-45e2-836e-2efdaa167c1a  5706369b-f2e5-4960-a45f-4aa22161fa3b   \n",
       "3  c5ede79a-f474-4a96-a6b4-0ec8119d9f73  e0be2515-b159-4dcb-9e50-85de5acefe6b   \n",
       "4  fa45550d-6a9c-4e8e-90e6-d73cc7202179  908138a6-fc5b-42cf-8cd4-0ac5ce0bdb1c   \n",
       "\n",
       "             trackedat   mood                              reasonid  \n",
       "0  2020-01-09 02:55:06     ok              57d9dc1ee66d040ed4e496a9  \n",
       "1  2020-01-15 15:54:53  angry              57db1d11e66d090e6410b868  \n",
       "2  2020-01-22 01:39:22  angry              5c6c2a2a9c79eca733d4dd23  \n",
       "3  2020-01-31 12:52:46  happy              57d9dc21e66d040ed4e496c7  \n",
       "4  2020-01-09 19:50:06     ok  ObjectId(\"5c6c2a229c79eca733d4dd16\")  "
      ]
     },
     "execution_count": 19,
     "metadata": {},
     "output_type": "execute_result"
    }
   ],
   "source": [
    "# This could be done with SQL, but the tables are small enough to load into memory here and I find it easier to do this with Python code.\n",
    "\n",
    "# Get the moodtracker table\n",
    "moodtracker_df = pd.read_sql_table('moodtracker', engine)\n",
    "moodtracker_df.head()"
   ]
  },
  {
   "cell_type": "code",
   "execution_count": 28,
   "metadata": {},
   "outputs": [
    {
     "data": {
      "text/plain": [
       "24    91694\n",
       "36     8306\n",
       "Name: reasonid, dtype: int64"
      ]
     },
     "metadata": {},
     "output_type": "display_data"
    }
   ],
   "source": [
    "# The reasonid column looks to be some kind of hash, so it should have a fixed length\n",
    "display(moodtracker_df.reasonid.apply(lambda x: len(x)).value_counts())"
   ]
  },
  {
   "cell_type": "markdown",
   "metadata": {},
   "source": [
    "Around 91% of the values are 24 char wide, so we should look into the remaning ~8%"
   ]
  },
  {
   "cell_type": "code",
   "execution_count": 36,
   "metadata": {},
   "outputs": [
    {
     "name": "stdout",
     "output_type": "stream",
     "text": [
      "There are 5 ids with 36 char length\n"
     ]
    },
    {
     "data": {
      "text/plain": [
       "array(['ObjectId(\"5c6c2a229c79eca733d4dd16\")',\n",
       "       'ObjectId(\"58335a7b514129a045865b07\")',\n",
       "       'ObjectId(\"5db17534d0f3fe373559ccbf\")',\n",
       "       'ObjectId(\"57d9dc1ee66d040ed4e496ad\")',\n",
       "       'ObjectId(\"5c6aa1de9c79eca733d4dbea\")'], dtype=object)"
      ]
     },
     "metadata": {},
     "output_type": "display_data"
    }
   ],
   "source": [
    "# Compute lengths and check which are 36 char wide\n",
    "moodtracker_df[\"reasonid_length\"] = moodtracker_df.reasonid.apply(lambda x: len(x))\n",
    "faulty_reasonid = moodtracker_df.query(\"reasonid_length == 36\").reasonid.unique()\n",
    "print(f'There are {faulty_reasonid.shape[0]} ids with 36 char length')\n",
    "\n",
    "display(faulty_reasonid)"
   ]
  },
  {
   "cell_type": "markdown",
   "metadata": {},
   "source": [
    "All 5 reasonid suffer the same problem, they have prefix text that shouldn't be there. We are going to remove this text and replace these values with the correct ids."
   ]
  },
  {
   "cell_type": "code",
   "execution_count": 46,
   "metadata": {},
   "outputs": [
    {
     "name": "stdout",
     "output_type": "stream",
     "text": [
      "We are going to update the reasonid of 8306 rows\n"
     ]
    }
   ],
   "source": [
    "# Since we know that our id has a fixed length, we can fix this with a very simple regex.\n",
    "pattern = r'(?P<new_reasonid>[a-zA-Z0-9]{24})'\n",
    "moodtracker_df[\"new_reasonid\"] = moodtracker_df.reasonid.str.extract(pattern)\n",
    "\n",
    "# Check how many rows are going to be updated\n",
    "reasonid_toupdate = moodtracker_df.query(\"reasonid != new_reasonid\").shape[0]\n",
    "print(f\"We are going to update the reasonid of {reasonid_toupdate} rows\")"
   ]
  },
  {
   "cell_type": "markdown",
   "metadata": {},
   "source": [
    "The number of rows to update is the same as the number of rows with 36 char wide reasonid, meaning that out fix covers all rows that need it."
   ]
  },
  {
   "cell_type": "code",
   "execution_count": 47,
   "metadata": {},
   "outputs": [],
   "source": [
    "# Update the table \n",
    "moodtracker_df.drop(columns = [\"reasonid\", \"reasonid_length\"], inplace=True)\n",
    "moodtracker_df.rename(columns = {\"new_reasonid\":\"reasonid\"}, inplace=True)"
   ]
  },
  {
   "cell_type": "code",
   "execution_count": 61,
   "metadata": {},
   "outputs": [
    {
     "name": "stdout",
     "output_type": "stream",
     "text": [
      "\"Object\" string found in the reasonid column: False\n",
      "There are 1 different char lenght in the reasonid field\n",
      "\n",
      "Length of the reasonid values:\n"
     ]
    },
    {
     "data": {
      "text/plain": [
       "24    100000\n",
       "Name: reasonid, dtype: int64"
      ]
     },
     "metadata": {},
     "output_type": "display_data"
    }
   ],
   "source": [
    "# Quick check for sanity sake\n",
    "print(f'''\"Object\" string found in the reasonid column: {moodtracker_df.reasonid.str.contains('Object').any()}''')\n",
    "print(f'''There are {moodtracker_df.reasonid.apply(lambda x: len(x)).nunique()} different char lenght in the reasonid field''')\n",
    "print(f'''\\nLength of the reasonid values:''')\n",
    "display(moodtracker_df.reasonid.apply(lambda x: len(x)).value_counts())"
   ]
  },
  {
   "cell_type": "markdown",
   "metadata": {},
   "source": [
    "Everything seems fine, so we are updating the table in the database."
   ]
  },
  {
   "cell_type": "code",
   "execution_count": 62,
   "metadata": {},
   "outputs": [],
   "source": [
    "# We are replacing the entire table in the database, since we have it all in memory\n",
    "moodtracker_df.to_sql('moodtracker', engine, if_exists='replace')"
   ]
  },
  {
   "cell_type": "markdown",
   "metadata": {},
   "source": [
    "### Content table"
   ]
  },
  {
   "cell_type": "code",
   "execution_count": 4,
   "metadata": {},
   "outputs": [
    {
     "data": {
      "text/html": [
       "<div>\n",
       "<style scoped>\n",
       "    .dataframe tbody tr th:only-of-type {\n",
       "        vertical-align: middle;\n",
       "    }\n",
       "\n",
       "    .dataframe tbody tr th {\n",
       "        vertical-align: top;\n",
       "    }\n",
       "\n",
       "    .dataframe thead th {\n",
       "        text-align: right;\n",
       "    }\n",
       "</style>\n",
       "<table border=\"1\" class=\"dataframe\">\n",
       "  <thead>\n",
       "    <tr style=\"text-align: right;\">\n",
       "      <th></th>\n",
       "      <th>id</th>\n",
       "      <th>title</th>\n",
       "      <th>reasonid</th>\n",
       "    </tr>\n",
       "  </thead>\n",
       "  <tbody>\n",
       "    <tr>\n",
       "      <th>0</th>\n",
       "      <td>4</td>\n",
       "      <td>dê a volta por cima, tamb√©m no trabalho</td>\n",
       "      <td>57d9dc1de66d040ed4e4969e</td>\n",
       "    </tr>\n",
       "    <tr>\n",
       "      <th>1</th>\n",
       "      <td>5</td>\n",
       "      <td>aumente a autoconfiança!</td>\n",
       "      <td>57d9dc1fe66d040ed4e496b3</td>\n",
       "    </tr>\n",
       "    <tr>\n",
       "      <th>2</th>\n",
       "      <td>6</td>\n",
       "      <td>elevando a sua autoestima</td>\n",
       "      <td>57db1d10e66d090e6410b866</td>\n",
       "    </tr>\n",
       "    <tr>\n",
       "      <th>3</th>\n",
       "      <td>1</td>\n",
       "      <td>como ser mais generoso</td>\n",
       "      <td>57d9dc1de66d040ed4e4969d</td>\n",
       "    </tr>\n",
       "    <tr>\n",
       "      <th>4</th>\n",
       "      <td>11</td>\n",
       "      <td>como lidar com a culpa?</td>\n",
       "      <td>57d9dc1ee66d040ed4e496a9</td>\n",
       "    </tr>\n",
       "  </tbody>\n",
       "</table>\n",
       "</div>"
      ],
      "text/plain": [
       "   id                                     title                  reasonid\n",
       "0   4  dê a volta por cima, tamb√©m no trabalho  57d9dc1de66d040ed4e4969e\n",
       "1   5                  aumente a autoconfiança!  57d9dc1fe66d040ed4e496b3\n",
       "2   6                 elevando a sua autoestima  57db1d10e66d090e6410b866\n",
       "3   1                    como ser mais generoso  57d9dc1de66d040ed4e4969d\n",
       "4  11                   como lidar com a culpa?  57d9dc1ee66d040ed4e496a9"
      ]
     },
     "execution_count": 4,
     "metadata": {},
     "output_type": "execute_result"
    }
   ],
   "source": [
    "# Get the content table\n",
    "content_df = pd.read_sql_table('content', engine)\n",
    "content_df.head()"
   ]
  },
  {
   "cell_type": "markdown",
   "metadata": {},
   "source": [
    "#### Reasonid\n",
    "Let's do the same check we did for the moodtracker table."
   ]
  },
  {
   "cell_type": "code",
   "execution_count": 5,
   "metadata": {},
   "outputs": [
    {
     "data": {
      "text/plain": [
       "24    49\n",
       "36     5\n",
       "Name: reasonid, dtype: int64"
      ]
     },
     "metadata": {},
     "output_type": "display_data"
    }
   ],
   "source": [
    "# The reasonid column looks to be some kind of hash, so it should have a fixed length\n",
    "display(content_df.reasonid.apply(lambda x: len(x)).value_counts())"
   ]
  },
  {
   "cell_type": "markdown",
   "metadata": {},
   "source": [
    "We find 5 \"polluted\" resonid, this is consistent with the 5 unique values we found previously on the moodtracker table. \n",
    "\n",
    "Since we are facing the same problem, we can reuse most of the code to fix the reasonid in this table."
   ]
  },
  {
   "cell_type": "code",
   "execution_count": 8,
   "metadata": {},
   "outputs": [
    {
     "name": "stdout",
     "output_type": "stream",
     "text": [
      "We are going to update the reasonid of 5 rows\n"
     ]
    }
   ],
   "source": [
    "# Note: We could make this a function since it is reused code, but since we are only using it twice, it's not worth the effort\n",
    "pattern = r'(?P<new_reasonid>[a-zA-Z0-9]{24})'\n",
    "content_df[\"new_reasonid\"] = content_df.reasonid.str.extract(pattern)\n",
    "\n",
    "# Check how many rows are going to be updated\n",
    "reasonid_toupdate = content_df.query(\"reasonid != new_reasonid\").shape[0]\n",
    "print(f\"We are going to update the reasonid of {reasonid_toupdate} rows\")\n",
    "\n",
    "# Update the table \n",
    "content_df.drop(columns = [\"reasonid\"], inplace=True)\n",
    "content_df.rename(columns = {\"new_reasonid\":\"reasonid\"}, inplace=True)"
   ]
  },
  {
   "cell_type": "markdown",
   "metadata": {},
   "source": [
    "The number of rows we are going to update is correct, so we can update the database table."
   ]
  },
  {
   "cell_type": "code",
   "execution_count": 9,
   "metadata": {},
   "outputs": [],
   "source": [
    "# We are replacing the entire table in the database, since we have it all in memory\n",
    "content_df.to_sql('content', engine, if_exists='replace')"
   ]
  },
  {
   "cell_type": "markdown",
   "metadata": {},
   "source": [
    "#### Titles\n",
    "\n",
    "Like we've seen previously, there are duplicate titles attached to different id and reasonid. Some of these are exact duplicates, while others are different strings because of encoding errors.\n",
    "\n",
    "Because this is just a simple exercise to extract one time reports we choose to only fix the titles with botched encoding. If we were completely fixing this issue, we would have to eliminate all the duplicates, map the reasonid of the removed rows to the ones that we keep and then apply that mapping to tables that also have the reasonid.\n",
    "\n",
    "Since this column is not a foreign key, and we only need the text to be fixed for human users, we can fix the strings and keep the different id and reasonid so the links to the other tables aren't broken. When we present results on this table we will use the title as the aggregation field, so it's ok to have duplicated titles as long as they are exactly the same.\n",
    "\n"
   ]
  },
  {
   "cell_type": "code",
   "execution_count": 12,
   "metadata": {
    "scrolled": true
   },
   "outputs": [
    {
     "data": {
      "text/html": [
       "<div>\n",
       "<style scoped>\n",
       "    .dataframe tbody tr th:only-of-type {\n",
       "        vertical-align: middle;\n",
       "    }\n",
       "\n",
       "    .dataframe tbody tr th {\n",
       "        vertical-align: top;\n",
       "    }\n",
       "\n",
       "    .dataframe thead th {\n",
       "        text-align: right;\n",
       "    }\n",
       "</style>\n",
       "<table border=\"1\" class=\"dataframe\">\n",
       "  <thead>\n",
       "    <tr style=\"text-align: right;\">\n",
       "      <th></th>\n",
       "      <th>id</th>\n",
       "      <th>title</th>\n",
       "      <th>reasonid</th>\n",
       "    </tr>\n",
       "  </thead>\n",
       "  <tbody>\n",
       "    <tr>\n",
       "      <th>44</th>\n",
       "      <td>73</td>\n",
       "      <td>5 passos anti-estresse</td>\n",
       "      <td>57d9dc1de66d040ed4e496a3</td>\n",
       "    </tr>\n",
       "    <tr>\n",
       "      <th>14</th>\n",
       "      <td>44</td>\n",
       "      <td>6 técnicas para você dominar suas emo√ß√µes</td>\n",
       "      <td>5b0d9da9abb35bed38c2ce6d</td>\n",
       "    </tr>\n",
       "    <tr>\n",
       "      <th>26</th>\n",
       "      <td>84</td>\n",
       "      <td>6 t√©cnicas para voc√™ dominar suas emo√ß√µes</td>\n",
       "      <td>57d9dc20e66d040ed4e496c2</td>\n",
       "    </tr>\n",
       "    <tr>\n",
       "      <th>20</th>\n",
       "      <td>9</td>\n",
       "      <td>afamosa uva-passa</td>\n",
       "      <td>57d9dc1ee66d040ed4e496ac</td>\n",
       "    </tr>\n",
       "    <tr>\n",
       "      <th>10</th>\n",
       "      <td>35</td>\n",
       "      <td>alcance a sua máxima performance</td>\n",
       "      <td>5b0d9dffabb35bed38c2ce6e</td>\n",
       "    </tr>\n",
       "    <tr>\n",
       "      <th>28</th>\n",
       "      <td>82</td>\n",
       "      <td>alcance a sua m√°xima performance</td>\n",
       "      <td>5c6aa1d39c79eca733d4dbd7</td>\n",
       "    </tr>\n",
       "    <tr>\n",
       "      <th>50</th>\n",
       "      <td>67</td>\n",
       "      <td>alivie o estresse</td>\n",
       "      <td>57d9dc1ee66d040ed4e496a8</td>\n",
       "    </tr>\n",
       "    <tr>\n",
       "      <th>29</th>\n",
       "      <td>81</td>\n",
       "      <td>aprenda a controlar</td>\n",
       "      <td>5c6c2a239c79eca733d4dd18</td>\n",
       "    </tr>\n",
       "    <tr>\n",
       "      <th>32</th>\n",
       "      <td>78</td>\n",
       "      <td>aprenda a se conhecer</td>\n",
       "      <td>5c6c2a279c79eca733d4dd1e</td>\n",
       "    </tr>\n",
       "    <tr>\n",
       "      <th>8</th>\n",
       "      <td>27</td>\n",
       "      <td>aprenda a se conhecer</td>\n",
       "      <td>5c6c2a289c79eca733d4dd20</td>\n",
       "    </tr>\n",
       "    <tr>\n",
       "      <th>22</th>\n",
       "      <td>88</td>\n",
       "      <td>aprenda a ser resiliente</td>\n",
       "      <td>57db1d0fe66d090e6410b85e</td>\n",
       "    </tr>\n",
       "    <tr>\n",
       "      <th>15</th>\n",
       "      <td>45</td>\n",
       "      <td>aprenda a ser resiliente</td>\n",
       "      <td>5c6c2a2a9c79eca733d4dd23</td>\n",
       "    </tr>\n",
       "    <tr>\n",
       "      <th>52</th>\n",
       "      <td>75</td>\n",
       "      <td>aprendendo a dormir melhor</td>\n",
       "      <td>57db1d10e66d090e6410b866</td>\n",
       "    </tr>\n",
       "    <tr>\n",
       "      <th>46</th>\n",
       "      <td>71</td>\n",
       "      <td>aprendendo a priorizar</td>\n",
       "      <td>5c6aa1db9c79eca733d4dbe4</td>\n",
       "    </tr>\n",
       "    <tr>\n",
       "      <th>1</th>\n",
       "      <td>5</td>\n",
       "      <td>aumente a autoconfiança!</td>\n",
       "      <td>57d9dc1fe66d040ed4e496b3</td>\n",
       "    </tr>\n",
       "    <tr>\n",
       "      <th>42</th>\n",
       "      <td>77</td>\n",
       "      <td>como dormir mais r√°pido</td>\n",
       "      <td>57d9dc1ee66d040ed4e496aa</td>\n",
       "    </tr>\n",
       "    <tr>\n",
       "      <th>4</th>\n",
       "      <td>11</td>\n",
       "      <td>como lidar com a culpa?</td>\n",
       "      <td>57d9dc1ee66d040ed4e496a9</td>\n",
       "    </tr>\n",
       "    <tr>\n",
       "      <th>3</th>\n",
       "      <td>1</td>\n",
       "      <td>como ser mais generoso</td>\n",
       "      <td>57d9dc1de66d040ed4e4969d</td>\n",
       "    </tr>\n",
       "    <tr>\n",
       "      <th>38</th>\n",
       "      <td>3</td>\n",
       "      <td>como tomar decisções difíceis</td>\n",
       "      <td>57d9dc21e66d040ed4e496cc</td>\n",
       "    </tr>\n",
       "    <tr>\n",
       "      <th>43</th>\n",
       "      <td>74</td>\n",
       "      <td>convivendo a dois</td>\n",
       "      <td>57d9dc21e66d040ed4e496ca</td>\n",
       "    </tr>\n",
       "    <tr>\n",
       "      <th>16</th>\n",
       "      <td>49</td>\n",
       "      <td>cultive a gratid√£o!</td>\n",
       "      <td>58335abb514129a045865b08</td>\n",
       "    </tr>\n",
       "    <tr>\n",
       "      <th>24</th>\n",
       "      <td>86</td>\n",
       "      <td>cultive a gratid√£o!</td>\n",
       "      <td>5c6c2a259c79eca733d4dd1b</td>\n",
       "    </tr>\n",
       "    <tr>\n",
       "      <th>7</th>\n",
       "      <td>24</td>\n",
       "      <td>curta sua companhia!</td>\n",
       "      <td>5b0da346abb35bed38c2ce70</td>\n",
       "    </tr>\n",
       "    <tr>\n",
       "      <th>31</th>\n",
       "      <td>79</td>\n",
       "      <td>curta sua companhia!</td>\n",
       "      <td>57d9dc1ee66d040ed4e496ae</td>\n",
       "    </tr>\n",
       "    <tr>\n",
       "      <th>45</th>\n",
       "      <td>72</td>\n",
       "      <td>dicas para aumentar a coragem</td>\n",
       "      <td>5c6aa1de9c79eca733d4dbea</td>\n",
       "    </tr>\n",
       "    <tr>\n",
       "      <th>6</th>\n",
       "      <td>20</td>\n",
       "      <td>dicas para aumentar a coragem</td>\n",
       "      <td>57d9dc21e66d040ed4e496c7</td>\n",
       "    </tr>\n",
       "    <tr>\n",
       "      <th>0</th>\n",
       "      <td>4</td>\n",
       "      <td>dê a volta por cima, tamb√©m no trabalho</td>\n",
       "      <td>57d9dc1de66d040ed4e4969e</td>\n",
       "    </tr>\n",
       "    <tr>\n",
       "      <th>2</th>\n",
       "      <td>6</td>\n",
       "      <td>elevando a sua autoestima</td>\n",
       "      <td>57db1d10e66d090e6410b866</td>\n",
       "    </tr>\n",
       "    <tr>\n",
       "      <th>36</th>\n",
       "      <td>93</td>\n",
       "      <td>encontre a felicidade</td>\n",
       "      <td>57d9dc1fe66d040ed4e496b9</td>\n",
       "    </tr>\n",
       "    <tr>\n",
       "      <th>49</th>\n",
       "      <td>68</td>\n",
       "      <td>encontre motivação no trabalho</td>\n",
       "      <td>57d9dc1de66d040ed4e496a5</td>\n",
       "    </tr>\n",
       "    <tr>\n",
       "      <th>41</th>\n",
       "      <td>59</td>\n",
       "      <td>exercite sua vulnerabilidade</td>\n",
       "      <td>57d9dc20e66d040ed4e496c3</td>\n",
       "    </tr>\n",
       "    <tr>\n",
       "      <th>30</th>\n",
       "      <td>80</td>\n",
       "      <td>exercite, pratique e compartilhe</td>\n",
       "      <td>57d9dc20e66d040ed4e496bf</td>\n",
       "    </tr>\n",
       "    <tr>\n",
       "      <th>11</th>\n",
       "      <td>38</td>\n",
       "      <td>exercite, pratique e compartilhe</td>\n",
       "      <td>58335a7b514129a045865b07</td>\n",
       "    </tr>\n",
       "    <tr>\n",
       "      <th>9</th>\n",
       "      <td>29</td>\n",
       "      <td>faça a sua bússola</td>\n",
       "      <td>5c6aa1d29c79eca733d4dbd5</td>\n",
       "    </tr>\n",
       "    <tr>\n",
       "      <th>33</th>\n",
       "      <td>90</td>\n",
       "      <td>fa√ßa uma pausa de 2 minutos</td>\n",
       "      <td>57d9dc1de66d040ed4e4969e</td>\n",
       "    </tr>\n",
       "    <tr>\n",
       "      <th>34</th>\n",
       "      <td>91</td>\n",
       "      <td>fuja do piloto autom√°tico</td>\n",
       "      <td>57d9dc1de66d040ed4e496a1</td>\n",
       "    </tr>\n",
       "    <tr>\n",
       "      <th>23</th>\n",
       "      <td>87</td>\n",
       "      <td>gerenciando o perfeccionismo</td>\n",
       "      <td>57db1d11e66d090e6410b868</td>\n",
       "    </tr>\n",
       "    <tr>\n",
       "      <th>17</th>\n",
       "      <td>50</td>\n",
       "      <td>gerenciando o perfeccionismo</td>\n",
       "      <td>5c6aa1e49c79eca733d4dbf3</td>\n",
       "    </tr>\n",
       "    <tr>\n",
       "      <th>53</th>\n",
       "      <td>76</td>\n",
       "      <td>gerencie conflitos</td>\n",
       "      <td>5c6c2a219c79eca733d4dd14</td>\n",
       "    </tr>\n",
       "    <tr>\n",
       "      <th>12</th>\n",
       "      <td>40</td>\n",
       "      <td>não seja sempre o culpado de tudo</td>\n",
       "      <td>5c6c293f9c79eca733d4dd0b</td>\n",
       "    </tr>\n",
       "    <tr>\n",
       "      <th>27</th>\n",
       "      <td>83</td>\n",
       "      <td>n√£o seja sempre o culpado de tudo</td>\n",
       "      <td>5db17534d0f3fe373559ccbf</td>\n",
       "    </tr>\n",
       "    <tr>\n",
       "      <th>48</th>\n",
       "      <td>69</td>\n",
       "      <td>o segredo da felicidade</td>\n",
       "      <td>5db17534d0f3fe373559cce1</td>\n",
       "    </tr>\n",
       "    <tr>\n",
       "      <th>21</th>\n",
       "      <td>89</td>\n",
       "      <td>pare de deixar tudo para depois</td>\n",
       "      <td>58dd776a5329db0c4d80c32b</td>\n",
       "    </tr>\n",
       "    <tr>\n",
       "      <th>25</th>\n",
       "      <td>85</td>\n",
       "      <td>passo a passo para encontrar seu prop√≥sito</td>\n",
       "      <td>5c6aa1d39c79eca733d4dbd6</td>\n",
       "    </tr>\n",
       "    <tr>\n",
       "      <th>47</th>\n",
       "      <td>70</td>\n",
       "      <td>pratique no √¥nibus ou metr√¥</td>\n",
       "      <td>5c6c2a229c79eca733d4dd15</td>\n",
       "    </tr>\n",
       "    <tr>\n",
       "      <th>18</th>\n",
       "      <td>54</td>\n",
       "      <td>qual o seu n√≠vel de intelig√™ncia emocional?</td>\n",
       "      <td>5c6c2a229c79eca733d4dd16</td>\n",
       "    </tr>\n",
       "    <tr>\n",
       "      <th>39</th>\n",
       "      <td>55</td>\n",
       "      <td>que líder você é?</td>\n",
       "      <td>57db1d10e66d090e6410b862</td>\n",
       "    </tr>\n",
       "    <tr>\n",
       "      <th>35</th>\n",
       "      <td>92</td>\n",
       "      <td>se ajuda a se ajudar</td>\n",
       "      <td>57d9dc21e66d040ed4e496c6</td>\n",
       "    </tr>\n",
       "    <tr>\n",
       "      <th>13</th>\n",
       "      <td>42</td>\n",
       "      <td>será que você tem depress√£o?</td>\n",
       "      <td>5b0d5ce1abb35bed38c2ce52</td>\n",
       "    </tr>\n",
       "    <tr>\n",
       "      <th>40</th>\n",
       "      <td>56</td>\n",
       "      <td>socialização: vocé domina essa arte?</td>\n",
       "      <td>57d9dc1ee66d040ed4e496ad</td>\n",
       "    </tr>\n",
       "    <tr>\n",
       "      <th>51</th>\n",
       "      <td>66</td>\n",
       "      <td>tenha controle da sua vida</td>\n",
       "      <td>57d9dc1de66d040ed4e496a4</td>\n",
       "    </tr>\n",
       "    <tr>\n",
       "      <th>37</th>\n",
       "      <td>94</td>\n",
       "      <td>trabalhe o seu foco</td>\n",
       "      <td>5c6c2a1f9c79eca733d4dd11</td>\n",
       "    </tr>\n",
       "    <tr>\n",
       "      <th>5</th>\n",
       "      <td>15</td>\n",
       "      <td>virando o jogo</td>\n",
       "      <td>57db1d10e66d090e6410b863</td>\n",
       "    </tr>\n",
       "    <tr>\n",
       "      <th>19</th>\n",
       "      <td>57</td>\n",
       "      <td>você é resiliente? #seguraessamarimba</td>\n",
       "      <td>5bf3e6d99c79eca733d4addb</td>\n",
       "    </tr>\n",
       "  </tbody>\n",
       "</table>\n",
       "</div>"
      ],
      "text/plain": [
       "    id                                          title  \\\n",
       "44  73                         5 passos anti-estresse   \n",
       "14  44    6 técnicas para você dominar suas emo√ß√µes   \n",
       "26  84  6 t√©cnicas para voc√™ dominar suas emo√ß√µes   \n",
       "20   9                              afamosa uva-passa   \n",
       "10  35               alcance a sua máxima performance   \n",
       "28  82              alcance a sua m√°xima performance   \n",
       "50  67                              alivie o estresse   \n",
       "29  81                            aprenda a controlar   \n",
       "32  78                          aprenda a se conhecer   \n",
       "8   27                          aprenda a se conhecer   \n",
       "22  88                       aprenda a ser resiliente   \n",
       "15  45                       aprenda a ser resiliente   \n",
       "52  75                     aprendendo a dormir melhor   \n",
       "46  71                         aprendendo a priorizar   \n",
       "1    5                       aumente a autoconfiança!   \n",
       "42  77                       como dormir mais r√°pido   \n",
       "4   11                        como lidar com a culpa?   \n",
       "3    1                         como ser mais generoso   \n",
       "38   3                  como tomar decisções difíceis   \n",
       "43  74                              convivendo a dois   \n",
       "16  49                           cultive a gratid√£o!   \n",
       "24  86                           cultive a gratid√£o!   \n",
       "7   24                           curta sua companhia!   \n",
       "31  79                           curta sua companhia!   \n",
       "45  72                  dicas para aumentar a coragem   \n",
       "6   20                  dicas para aumentar a coragem   \n",
       "0    4       dê a volta por cima, tamb√©m no trabalho   \n",
       "2    6                      elevando a sua autoestima   \n",
       "36  93                          encontre a felicidade   \n",
       "49  68                 encontre motivação no trabalho   \n",
       "41  59                   exercite sua vulnerabilidade   \n",
       "30  80               exercite, pratique e compartilhe   \n",
       "11  38               exercite, pratique e compartilhe   \n",
       "9   29                             faça a sua bússola   \n",
       "33  90                   fa√ßa uma pausa de 2 minutos   \n",
       "34  91                     fuja do piloto autom√°tico   \n",
       "23  87                   gerenciando o perfeccionismo   \n",
       "17  50                   gerenciando o perfeccionismo   \n",
       "53  76                             gerencie conflitos   \n",
       "12  40              não seja sempre o culpado de tudo   \n",
       "27  83             n√£o seja sempre o culpado de tudo   \n",
       "48  69                        o segredo da felicidade   \n",
       "21  89                pare de deixar tudo para depois   \n",
       "25  85    passo a passo para encontrar seu prop√≥sito   \n",
       "47  70                  pratique no √¥nibus ou metr√¥   \n",
       "18  54  qual o seu n√≠vel de intelig√™ncia emocional?   \n",
       "39  55                              que líder você é?   \n",
       "35  92                           se ajuda a se ajudar   \n",
       "13  42                  será que você tem depress√£o?   \n",
       "40  56           socialização: vocé domina essa arte?   \n",
       "51  66                     tenha controle da sua vida   \n",
       "37  94                            trabalhe o seu foco   \n",
       "5   15                                 virando o jogo   \n",
       "19  57          você é resiliente? #seguraessamarimba   \n",
       "\n",
       "                    reasonid  \n",
       "44  57d9dc1de66d040ed4e496a3  \n",
       "14  5b0d9da9abb35bed38c2ce6d  \n",
       "26  57d9dc20e66d040ed4e496c2  \n",
       "20  57d9dc1ee66d040ed4e496ac  \n",
       "10  5b0d9dffabb35bed38c2ce6e  \n",
       "28  5c6aa1d39c79eca733d4dbd7  \n",
       "50  57d9dc1ee66d040ed4e496a8  \n",
       "29  5c6c2a239c79eca733d4dd18  \n",
       "32  5c6c2a279c79eca733d4dd1e  \n",
       "8   5c6c2a289c79eca733d4dd20  \n",
       "22  57db1d0fe66d090e6410b85e  \n",
       "15  5c6c2a2a9c79eca733d4dd23  \n",
       "52  57db1d10e66d090e6410b866  \n",
       "46  5c6aa1db9c79eca733d4dbe4  \n",
       "1   57d9dc1fe66d040ed4e496b3  \n",
       "42  57d9dc1ee66d040ed4e496aa  \n",
       "4   57d9dc1ee66d040ed4e496a9  \n",
       "3   57d9dc1de66d040ed4e4969d  \n",
       "38  57d9dc21e66d040ed4e496cc  \n",
       "43  57d9dc21e66d040ed4e496ca  \n",
       "16  58335abb514129a045865b08  \n",
       "24  5c6c2a259c79eca733d4dd1b  \n",
       "7   5b0da346abb35bed38c2ce70  \n",
       "31  57d9dc1ee66d040ed4e496ae  \n",
       "45  5c6aa1de9c79eca733d4dbea  \n",
       "6   57d9dc21e66d040ed4e496c7  \n",
       "0   57d9dc1de66d040ed4e4969e  \n",
       "2   57db1d10e66d090e6410b866  \n",
       "36  57d9dc1fe66d040ed4e496b9  \n",
       "49  57d9dc1de66d040ed4e496a5  \n",
       "41  57d9dc20e66d040ed4e496c3  \n",
       "30  57d9dc20e66d040ed4e496bf  \n",
       "11  58335a7b514129a045865b07  \n",
       "9   5c6aa1d29c79eca733d4dbd5  \n",
       "33  57d9dc1de66d040ed4e4969e  \n",
       "34  57d9dc1de66d040ed4e496a1  \n",
       "23  57db1d11e66d090e6410b868  \n",
       "17  5c6aa1e49c79eca733d4dbf3  \n",
       "53  5c6c2a219c79eca733d4dd14  \n",
       "12  5c6c293f9c79eca733d4dd0b  \n",
       "27  5db17534d0f3fe373559ccbf  \n",
       "48  5db17534d0f3fe373559cce1  \n",
       "21  58dd776a5329db0c4d80c32b  \n",
       "25  5c6aa1d39c79eca733d4dbd6  \n",
       "47  5c6c2a229c79eca733d4dd15  \n",
       "18  5c6c2a229c79eca733d4dd16  \n",
       "39  57db1d10e66d090e6410b862  \n",
       "35  57d9dc21e66d040ed4e496c6  \n",
       "13  5b0d5ce1abb35bed38c2ce52  \n",
       "40  57d9dc1ee66d040ed4e496ad  \n",
       "51  57d9dc1de66d040ed4e496a4  \n",
       "37  5c6c2a1f9c79eca733d4dd11  \n",
       "5   57db1d10e66d090e6410b863  \n",
       "19  5bf3e6d99c79eca733d4addb  "
      ]
     },
     "execution_count": 12,
     "metadata": {},
     "output_type": "execute_result"
    }
   ],
   "source": [
    "# Since the table is very small we'll print the entire thing for visual inspection\n",
    "content_df.sort_values(\"title\")"
   ]
  },
  {
   "cell_type": "code",
   "execution_count": 17,
   "metadata": {},
   "outputs": [
    {
     "data": {
      "text/html": [
       "<div>\n",
       "<style scoped>\n",
       "    .dataframe tbody tr th:only-of-type {\n",
       "        vertical-align: middle;\n",
       "    }\n",
       "\n",
       "    .dataframe tbody tr th {\n",
       "        vertical-align: top;\n",
       "    }\n",
       "\n",
       "    .dataframe thead th {\n",
       "        text-align: right;\n",
       "    }\n",
       "</style>\n",
       "<table border=\"1\" class=\"dataframe\">\n",
       "  <thead>\n",
       "    <tr style=\"text-align: right;\">\n",
       "      <th></th>\n",
       "      <th>id</th>\n",
       "      <th>title</th>\n",
       "      <th>reasonid</th>\n",
       "    </tr>\n",
       "  </thead>\n",
       "  <tbody>\n",
       "    <tr>\n",
       "      <th>14</th>\n",
       "      <td>44</td>\n",
       "      <td>6 técnicas para você dominar suas emo√ß√µes</td>\n",
       "      <td>5b0d9da9abb35bed38c2ce6d</td>\n",
       "    </tr>\n",
       "    <tr>\n",
       "      <th>26</th>\n",
       "      <td>84</td>\n",
       "      <td>6 t√©cnicas para voc√™ dominar suas emo√ß√µes</td>\n",
       "      <td>57d9dc20e66d040ed4e496c2</td>\n",
       "    </tr>\n",
       "    <tr>\n",
       "      <th>10</th>\n",
       "      <td>35</td>\n",
       "      <td>alcance a sua máxima performance</td>\n",
       "      <td>5b0d9dffabb35bed38c2ce6e</td>\n",
       "    </tr>\n",
       "    <tr>\n",
       "      <th>28</th>\n",
       "      <td>82</td>\n",
       "      <td>alcance a sua m√°xima performance</td>\n",
       "      <td>5c6aa1d39c79eca733d4dbd7</td>\n",
       "    </tr>\n",
       "    <tr>\n",
       "      <th>32</th>\n",
       "      <td>78</td>\n",
       "      <td>aprenda a se conhecer</td>\n",
       "      <td>5c6c2a279c79eca733d4dd1e</td>\n",
       "    </tr>\n",
       "    <tr>\n",
       "      <th>8</th>\n",
       "      <td>27</td>\n",
       "      <td>aprenda a se conhecer</td>\n",
       "      <td>5c6c2a289c79eca733d4dd20</td>\n",
       "    </tr>\n",
       "    <tr>\n",
       "      <th>22</th>\n",
       "      <td>88</td>\n",
       "      <td>aprenda a ser resiliente</td>\n",
       "      <td>57db1d0fe66d090e6410b85e</td>\n",
       "    </tr>\n",
       "    <tr>\n",
       "      <th>15</th>\n",
       "      <td>45</td>\n",
       "      <td>aprenda a ser resiliente</td>\n",
       "      <td>5c6c2a2a9c79eca733d4dd23</td>\n",
       "    </tr>\n",
       "    <tr>\n",
       "      <th>42</th>\n",
       "      <td>77</td>\n",
       "      <td>como dormir mais r√°pido</td>\n",
       "      <td>57d9dc1ee66d040ed4e496aa</td>\n",
       "    </tr>\n",
       "    <tr>\n",
       "      <th>24</th>\n",
       "      <td>86</td>\n",
       "      <td>cultive a gratid√£o!</td>\n",
       "      <td>5c6c2a259c79eca733d4dd1b</td>\n",
       "    </tr>\n",
       "    <tr>\n",
       "      <th>16</th>\n",
       "      <td>49</td>\n",
       "      <td>cultive a gratid√£o!</td>\n",
       "      <td>58335abb514129a045865b08</td>\n",
       "    </tr>\n",
       "    <tr>\n",
       "      <th>7</th>\n",
       "      <td>24</td>\n",
       "      <td>curta sua companhia!</td>\n",
       "      <td>5b0da346abb35bed38c2ce70</td>\n",
       "    </tr>\n",
       "    <tr>\n",
       "      <th>31</th>\n",
       "      <td>79</td>\n",
       "      <td>curta sua companhia!</td>\n",
       "      <td>57d9dc1ee66d040ed4e496ae</td>\n",
       "    </tr>\n",
       "    <tr>\n",
       "      <th>45</th>\n",
       "      <td>72</td>\n",
       "      <td>dicas para aumentar a coragem</td>\n",
       "      <td>5c6aa1de9c79eca733d4dbea</td>\n",
       "    </tr>\n",
       "    <tr>\n",
       "      <th>6</th>\n",
       "      <td>20</td>\n",
       "      <td>dicas para aumentar a coragem</td>\n",
       "      <td>57d9dc21e66d040ed4e496c7</td>\n",
       "    </tr>\n",
       "    <tr>\n",
       "      <th>0</th>\n",
       "      <td>4</td>\n",
       "      <td>dê a volta por cima, tamb√©m no trabalho</td>\n",
       "      <td>57d9dc1de66d040ed4e4969e</td>\n",
       "    </tr>\n",
       "    <tr>\n",
       "      <th>30</th>\n",
       "      <td>80</td>\n",
       "      <td>exercite, pratique e compartilhe</td>\n",
       "      <td>57d9dc20e66d040ed4e496bf</td>\n",
       "    </tr>\n",
       "    <tr>\n",
       "      <th>11</th>\n",
       "      <td>38</td>\n",
       "      <td>exercite, pratique e compartilhe</td>\n",
       "      <td>58335a7b514129a045865b07</td>\n",
       "    </tr>\n",
       "    <tr>\n",
       "      <th>33</th>\n",
       "      <td>90</td>\n",
       "      <td>fa√ßa uma pausa de 2 minutos</td>\n",
       "      <td>57d9dc1de66d040ed4e4969e</td>\n",
       "    </tr>\n",
       "    <tr>\n",
       "      <th>34</th>\n",
       "      <td>91</td>\n",
       "      <td>fuja do piloto autom√°tico</td>\n",
       "      <td>57d9dc1de66d040ed4e496a1</td>\n",
       "    </tr>\n",
       "  </tbody>\n",
       "</table>\n",
       "</div>"
      ],
      "text/plain": [
       "    id                                          title  \\\n",
       "14  44    6 técnicas para você dominar suas emo√ß√µes   \n",
       "26  84  6 t√©cnicas para voc√™ dominar suas emo√ß√µes   \n",
       "10  35               alcance a sua máxima performance   \n",
       "28  82              alcance a sua m√°xima performance   \n",
       "32  78                          aprenda a se conhecer   \n",
       "8   27                          aprenda a se conhecer   \n",
       "22  88                       aprenda a ser resiliente   \n",
       "15  45                       aprenda a ser resiliente   \n",
       "42  77                       como dormir mais r√°pido   \n",
       "24  86                           cultive a gratid√£o!   \n",
       "16  49                           cultive a gratid√£o!   \n",
       "7   24                           curta sua companhia!   \n",
       "31  79                           curta sua companhia!   \n",
       "45  72                  dicas para aumentar a coragem   \n",
       "6   20                  dicas para aumentar a coragem   \n",
       "0    4       dê a volta por cima, tamb√©m no trabalho   \n",
       "30  80               exercite, pratique e compartilhe   \n",
       "11  38               exercite, pratique e compartilhe   \n",
       "33  90                   fa√ßa uma pausa de 2 minutos   \n",
       "34  91                     fuja do piloto autom√°tico   \n",
       "\n",
       "                    reasonid  \n",
       "14  5b0d9da9abb35bed38c2ce6d  \n",
       "26  57d9dc20e66d040ed4e496c2  \n",
       "10  5b0d9dffabb35bed38c2ce6e  \n",
       "28  5c6aa1d39c79eca733d4dbd7  \n",
       "32  5c6c2a279c79eca733d4dd1e  \n",
       "8   5c6c2a289c79eca733d4dd20  \n",
       "22  57db1d0fe66d090e6410b85e  \n",
       "15  5c6c2a2a9c79eca733d4dd23  \n",
       "42  57d9dc1ee66d040ed4e496aa  \n",
       "24  5c6c2a259c79eca733d4dd1b  \n",
       "16  58335abb514129a045865b08  \n",
       "7   5b0da346abb35bed38c2ce70  \n",
       "31  57d9dc1ee66d040ed4e496ae  \n",
       "45  5c6aa1de9c79eca733d4dbea  \n",
       "6   57d9dc21e66d040ed4e496c7  \n",
       "0   57d9dc1de66d040ed4e4969e  \n",
       "30  57d9dc20e66d040ed4e496bf  \n",
       "11  58335a7b514129a045865b07  \n",
       "33  57d9dc1de66d040ed4e4969e  \n",
       "34  57d9dc1de66d040ed4e496a1  "
      ]
     },
     "metadata": {},
     "output_type": "display_data"
    }
   ],
   "source": [
    "# After visual inspections, here's the titles with duplicates and messed up encoding\n",
    "index_botched_rows=[14, 26, 10, 28, 32, 8, 22, 15, 42, 16, 24, 7, 31, 45, 6, 0, 30 , 11, 33, 34]\n",
    "display(content_df.iloc[index_botched_rows].sort_values(\"title\"))"
   ]
  },
  {
   "cell_type": "code",
   "execution_count": 39,
   "metadata": {},
   "outputs": [
    {
     "data": {
      "text/plain": [
       "array(['6 técnicas para você dominar suas emo√ß√µes',\n",
       "       '6 t√©cnicas para voc√™ dominar suas emo√ß√µes',\n",
       "       'alcance a sua máxima performance',\n",
       "       'alcance a sua m√°xima performance', 'aprenda a se conhecer',\n",
       "       'aprenda a ser resiliente', 'como dormir mais r√°pido',\n",
       "       'cultive a gratid√£o!', 'curta sua companhia!',\n",
       "       'dicas para aumentar a coragem',\n",
       "       'dê a volta por cima, tamb√©m no trabalho',\n",
       "       'exercite, pratique e compartilhe', 'fa√ßa uma pausa de 2 minutos',\n",
       "       'fuja do piloto autom√°tico'], dtype=object)"
      ]
     },
     "metadata": {},
     "output_type": "display_data"
    }
   ],
   "source": [
    "# Check if the \"clean\" duplicates are actual duplicates\n",
    "display(content_df.iloc[index_botched_rows].title.unique())"
   ]
  },
  {
   "cell_type": "markdown",
   "metadata": {},
   "source": [
    "There are only a couple of poorly encoded titles, it's easier and faster to just replace them. Since the botched titles are like that on the source files, we would have to guess what was the original encoding of the original database/source and then fix it."
   ]
  },
  {
   "cell_type": "code",
   "execution_count": 64,
   "metadata": {},
   "outputs": [
    {
     "data": {
      "text/plain": [
       "14    6 técnicas para você dominar suas emo√ß√µes\n",
       "26      6 técnicas para você dominar suas emoções\n",
       "10               alcance a sua máxima performance\n",
       "28              alcance a sua m√°xima performance\n",
       "32                          aprenda a se conhecer\n",
       "8                           aprenda a se conhecer\n",
       "22                       aprenda a ser resiliente\n",
       "15                       aprenda a ser resiliente\n",
       "42                       como dormir mais r√°pido\n",
       "16                            cultive a gratidão!\n",
       "24                            cultive a gratidão!\n",
       "7                            curta sua companhia!\n",
       "31                           curta sua companhia!\n",
       "45                  dicas para aumentar a coragem\n",
       "6                   dicas para aumentar a coragem\n",
       "0        dê a volta por cima, tamb√©m no trabalho\n",
       "30               exercite, pratique e compartilhe\n",
       "11               exercite, pratique e compartilhe\n",
       "33                   fa√ßa uma pausa de 2 minutos\n",
       "34                     fuja do piloto autom√°tico\n",
       "Name: title, dtype: object"
      ]
     },
     "metadata": {},
     "output_type": "display_data"
    }
   ],
   "source": [
    "# We can use the ftfy package to perform a first cleaning iteration\n",
    "display(content_df.iloc[index_botched_rows].title.apply(lambda x: ftfy.fix_encoding(x)))"
   ]
  },
  {
   "cell_type": "markdown",
   "metadata": {},
   "source": [
    "This already fixes some of the poorly encoded text, so we are going to apply it to our table and manually correct the remaining since there are only 7 examples."
   ]
  },
  {
   "cell_type": "code",
   "execution_count": 71,
   "metadata": {},
   "outputs": [
    {
     "data": {
      "text/plain": [
       "array(['dê a volta por cima, também no trabalho',\n",
       "       'aumente a autoconfiança!', 'elevando a sua autoestima',\n",
       "       'como ser mais generoso', 'como lidar com a culpa?',\n",
       "       'virando o jogo', 'dicas para aumentar a coragem',\n",
       "       'curta sua companhia!', 'aprenda a se conhecer',\n",
       "       'faça a sua bússola', 'alcance a sua máxima performance',\n",
       "       'exercite, pratique e compartilhe',\n",
       "       'não seja sempre o culpado de tudo',\n",
       "       'será que você tem depressão?',\n",
       "       '6 técnicas para você dominar suas emoções',\n",
       "       'aprenda a ser resiliente', 'cultive a gratidão!',\n",
       "       'gerenciando o perfeccionismo',\n",
       "       'qual o seu nível de inteligência emocional?',\n",
       "       'você é resiliente? #seguraessamarimba', 'afamosa uva-passa',\n",
       "       'pare de deixar tudo para depois',\n",
       "       'passo a passo para encontrar seu propósito',\n",
       "       'aprenda a controlar', 'faça uma pausa de 2 minutos',\n",
       "       'fuja do piloto automático', 'se ajuda a se ajudar',\n",
       "       'encontre a felicidade', 'trabalhe o seu foco',\n",
       "       'como tomar decisções difíceis', 'que líder você é?',\n",
       "       'socialização: vocé domina essa arte?',\n",
       "       'exercite sua vulnerabilidade', 'como dormir mais rápido',\n",
       "       'convivendo a dois', '5 passos anti-estresse',\n",
       "       'aprendendo a priorizar', 'pratique no ônibus ou metrô',\n",
       "       'o segredo da felicidade', 'encontre motivação no trabalho',\n",
       "       'alivie o estresse', 'tenha controle da sua vida',\n",
       "       'aprendendo a dormir melhor', 'gerencie conflitos'], dtype=object)"
      ]
     },
     "metadata": {},
     "output_type": "display_data"
    }
   ],
   "source": [
    "# Update dataframe\n",
    "content_df[\"title\"] = content_df[\"title\"].apply(lambda x: ftfy.fix_encoding(x))\n",
    "\n",
    "# Now we fix the remaining ones \"manually\"\n",
    "\n",
    "title_fix_dict = {\"6 técnicas para você dominar suas emo√ß√µes\": '6 técnicas para você dominar suas emoções',\n",
    "                 \"alcance a sua m√°xima performance\":'alcance a sua máxima performance',\n",
    "                 \"como dormir mais r√°pido\": 'como dormir mais rápido',\n",
    "                 \"dê a volta por cima, tamb√©m no trabalho\": \"dê a volta por cima, também no trabalho\",\n",
    "                 \"fa√ßa uma pausa de 2 minutos\": \"faça uma pausa de 2 minutos\",\n",
    "                 \"fuja do piloto autom√°tico\": \"fuja do piloto automático\",\n",
    "                  \"será que você tem depress√£o?\": \"será que você tem depressão?\"\n",
    "                 }\n",
    "\n",
    "# Apply fix\n",
    "content_df[\"title\"].replace(title_fix_dict, inplace=True)\n",
    "\n",
    "# Check the result\n",
    "display(content_df.title.unique())"
   ]
  },
  {
   "cell_type": "markdown",
   "metadata": {},
   "source": [
    "Everything looks properly fixed now, so all that's left is to update the table in the database."
   ]
  },
  {
   "cell_type": "code",
   "execution_count": 72,
   "metadata": {},
   "outputs": [],
   "source": [
    "# We are replacing the entire table in the database, since we have it all in memory\n",
    "content_df.to_sql('content', engine, if_exists='replace')"
   ]
  }
 ],
 "metadata": {
  "kernelspec": {
   "display_name": "Python 3",
   "language": "python",
   "name": "python3"
  },
  "language_info": {
   "codemirror_mode": {
    "name": "ipython",
    "version": 3
   },
   "file_extension": ".py",
   "mimetype": "text/x-python",
   "name": "python",
   "nbconvert_exporter": "python",
   "pygments_lexer": "ipython3",
   "version": "3.7.5"
  }
 },
 "nbformat": 4,
 "nbformat_minor": 4
}
