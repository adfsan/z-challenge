{
 "cells": [
  {
   "cell_type": "markdown",
   "metadata": {},
   "source": [
    "# Report 1\n",
    "\n",
    "This report should provide insights related to the employee emotional state and its evolution per industry they work with."
   ]
  },
  {
   "cell_type": "code",
   "execution_count": 2,
   "metadata": {},
   "outputs": [],
   "source": [
    "import numpy as np\n",
    "import modin.pandas as pd\n",
    "import gender_guesser.detector as gender\n",
    "import warnings\n",
    "import seaborn as sns\n",
    "import matplotlib.pyplot as plt\n",
    "\n",
    "from PsqlConn import create_psql_engine"
   ]
  },
  {
   "cell_type": "code",
   "execution_count": 3,
   "metadata": {},
   "outputs": [],
   "source": [
    "%matplotlib inline\n",
    "# Suppress warnings (for better notebook readability)\n",
    "warnings.filterwarnings(action='ignore')\n",
    "\n",
    "# Apply seaborn default settings\n",
    "sns.set()\n",
    "\n",
    "# Create engine for connection with DB\n",
    "engine = create_psql_engine()"
   ]
  },
  {
   "cell_type": "code",
   "execution_count": 4,
   "metadata": {},
   "outputs": [],
   "source": [
    "# Utility functions\n",
    "\n",
    "# These could've been lambda functions, but the function name is used as the column name, so it's handier this way\n",
    "def male_count(series:pd.Series):\n",
    "    return sum(series == 'male')\n",
    "\n",
    "def female_count(series:pd.Series):\n",
    "    return sum(series == 'female')\n",
    "\n",
    "def male_female_ratio(series:pd.Series):\n",
    "    return sum(series == 'male')/sum(series == 'female')\n",
    "\n",
    "def unknown_count(series:pd.Series):\n",
    "    return sum(series == 'unknown')"
   ]
  },
  {
   "cell_type": "markdown",
   "metadata": {},
   "source": [
    "____________________\n",
    "## Population description\n",
    "First let's take a look at our population and try to understand what's the distribution of users among companies, industries and ages."
   ]
  },
  {
   "cell_type": "code",
   "execution_count": 5,
   "metadata": {},
   "outputs": [
    {
     "data": {
      "text/html": [
       "<div>\n",
       "<style scoped>\n",
       "    .dataframe tbody tr th:only-of-type {\n",
       "        vertical-align: middle;\n",
       "    }\n",
       "\n",
       "    .dataframe tbody tr th {\n",
       "        vertical-align: top;\n",
       "    }\n",
       "\n",
       "    .dataframe thead th {\n",
       "        text-align: right;\n",
       "    }\n",
       "</style>\n",
       "<table border=\"1\" class=\"dataframe\">\n",
       "  <thead>\n",
       "    <tr style=\"text-align: right;\">\n",
       "      <th></th>\n",
       "      <th>userid</th>\n",
       "      <th>username</th>\n",
       "      <th>userage</th>\n",
       "      <th>companyname</th>\n",
       "      <th>industryname</th>\n",
       "    </tr>\n",
       "  </thead>\n",
       "  <tbody>\n",
       "    <tr>\n",
       "      <th>0</th>\n",
       "      <td>517a8deb-14d2-4662-8ca5-a2515bf06326</td>\n",
       "      <td>Aurelia</td>\n",
       "      <td>21</td>\n",
       "      <td>Apple</td>\n",
       "      <td>Marketing</td>\n",
       "    </tr>\n",
       "    <tr>\n",
       "      <th>1</th>\n",
       "      <td>b3152a96-6055-44f5-87fe-4d1763129bb9</td>\n",
       "      <td>Alisa</td>\n",
       "      <td>25</td>\n",
       "      <td>Pied Piper</td>\n",
       "      <td>Marketing</td>\n",
       "    </tr>\n",
       "    <tr>\n",
       "      <th>2</th>\n",
       "      <td>5c185183-ee83-426b-b535-8d9ba776c731</td>\n",
       "      <td>Chester</td>\n",
       "      <td>36</td>\n",
       "      <td>Twitter</td>\n",
       "      <td>Marketing</td>\n",
       "    </tr>\n",
       "    <tr>\n",
       "      <th>3</th>\n",
       "      <td>4a45d028-906e-4e42-b768-7071b48bc6e4</td>\n",
       "      <td>Zechariah</td>\n",
       "      <td>36</td>\n",
       "      <td>Pied Piper</td>\n",
       "      <td>Finance</td>\n",
       "    </tr>\n",
       "    <tr>\n",
       "      <th>4</th>\n",
       "      <td>d94ca93a-66f3-4972-a07d-c774109ba7d3</td>\n",
       "      <td>Ramona</td>\n",
       "      <td>29</td>\n",
       "      <td>Twitter</td>\n",
       "      <td>Sales</td>\n",
       "    </tr>\n",
       "  </tbody>\n",
       "</table>\n",
       "</div>"
      ],
      "text/plain": [
       "                                 userid   username  userage companyname  \\\n",
       "0  517a8deb-14d2-4662-8ca5-a2515bf06326    Aurelia       21       Apple   \n",
       "1  b3152a96-6055-44f5-87fe-4d1763129bb9      Alisa       25  Pied Piper   \n",
       "2  5c185183-ee83-426b-b535-8d9ba776c731    Chester       36     Twitter   \n",
       "3  4a45d028-906e-4e42-b768-7071b48bc6e4  Zechariah       36  Pied Piper   \n",
       "4  d94ca93a-66f3-4972-a07d-c774109ba7d3     Ramona       29     Twitter   \n",
       "\n",
       "  industryname  \n",
       "0    Marketing  \n",
       "1    Marketing  \n",
       "2    Marketing  \n",
       "3      Finance  \n",
       "4        Sales  "
      ]
     },
     "execution_count": 5,
     "metadata": {},
     "output_type": "execute_result"
    }
   ],
   "source": [
    "# Query to fetch a simple user table with company and industry names\n",
    "pop_q = f'''\n",
    "-- Get users and their company and industry\n",
    "select distinct u.id as userid,\n",
    "                u.name as username,\n",
    "                u.age as userage,\n",
    "                cm.name as companyname,\n",
    "                i.name as industryname\n",
    "from users u \n",
    "left join companies cm\n",
    "on(cast(u.companyid as text) = cm.id )\n",
    "left join industries i \n",
    "on(i.id = cast(u.industryid as text) )\n",
    ";\n",
    "'''\n",
    "\n",
    "pop_df = pd.read_sql_query(pop_q, engine)\n",
    "pop_df.head()"
   ]
  },
  {
   "cell_type": "markdown",
   "metadata": {},
   "source": [
    "Straight away, one thing we can do to augment our data is to try to guess what is the gender of the user based on their name. We can infer that using a package such as https://pypi.org/project/gender-guesser/."
   ]
  },
  {
   "cell_type": "code",
   "execution_count": 6,
   "metadata": {},
   "outputs": [
    {
     "name": "stdout",
     "output_type": "stream",
     "text": [
      "Out of 2000 users, this was the proportion of genders guessed:\n"
     ]
    },
    {
     "data": {
      "text/plain": [
       "female           883\n",
       "male             831\n",
       "unknown          147\n",
       "mostly_male       62\n",
       "mostly_female     51\n",
       "andy              26\n",
       "dtype: int64"
      ]
     },
     "metadata": {},
     "output_type": "display_data"
    }
   ],
   "source": [
    "# Create a detector object\n",
    "genderDetector = gender.Detector()\n",
    "\n",
    "# We guess the the genders and then check what we got\n",
    "pop_df['genderguess'] = pop_df.username.apply(lambda x: genderDetector.get_gender(x))\n",
    "\n",
    "print(f\"Out of {pop_df['userid'].nunique()} users, this was the proportion of genders guessed:\")\n",
    "display(pop_df['genderguess'].value_counts())"
   ]
  },
  {
   "cell_type": "markdown",
   "metadata": {},
   "source": [
    "With this we were able to guess around 86% as definitively either male of female. Some remarks:\n",
    "\n",
    "* The `mostly_male` and `mostly_female` labels represent 3.1% and 2.6% of the population so we are going to join them with the `male` and `female` labels for simplicity.\n",
    "* The `andy` label represents names that can be either male or female. This label represents 1.3% of our population. Since this is such a low value we are going to keep it as it's own thing instead of drilling down further.\n",
    "* The `unknow` label represents names that the detector was unable to guess as either gender. They are 7.35% of our population, so it's also a small subset. The total number of distinct names is 116. Since the gender is just a guess, there is no point in trying to fit the these into either of the male or female labels."
   ]
  },
  {
   "cell_type": "code",
   "execution_count": 7,
   "metadata": {},
   "outputs": [],
   "source": [
    "# Replace the `mostly_xxx`labels with the definitive ones\n",
    "gender_simpl_dict = {\"mostly_male\":'male',\n",
    "                    \"mostly_female\": 'female',\n",
    "                    }\n",
    "pop_df[\"genderguess\"]=pop_df[\"genderguess\"].replace(gender_simpl_dict)\n",
    "\n",
    "# Save categories as factor to save memory\n",
    "pop_df[\"genderguess\"]=pop_df[\"genderguess\"].astype('category')"
   ]
  },
  {
   "cell_type": "code",
   "execution_count": 8,
   "metadata": {},
   "outputs": [
    {
     "name": "stdout",
     "output_type": "stream",
     "text": [
      "Number of unique users per company\n"
     ]
    },
    {
     "data": {
      "text/plain": [
       "companyname\n",
       "Apple         682\n",
       "Facebook      333\n",
       "Pied Piper    320\n",
       "Twitter       665\n",
       "Name: userid, dtype: int64"
      ]
     },
     "metadata": {},
     "output_type": "display_data"
    },
    {
     "name": "stdout",
     "output_type": "stream",
     "text": [
      "\n",
      "Number of unique users per industry\n"
     ]
    },
    {
     "data": {
      "text/plain": [
       "industryname\n",
       "Finance      313\n",
       "Marketing    676\n",
       "Sales        371\n",
       "Tech         640\n",
       "Name: userid, dtype: int64"
      ]
     },
     "metadata": {},
     "output_type": "display_data"
    }
   ],
   "source": [
    "# Lets check how many users we have per company, industry and company + industry\n",
    "print(\"Number of unique users per company\")\n",
    "display(pop_df.groupby(\"companyname\")[\"userid\"].nunique())\n",
    "\n",
    "print(\"\\nNumber of unique users per industry\")\n",
    "display(pop_df.groupby(\"industryname\")[\"userid\"].nunique())"
   ]
  },
  {
   "cell_type": "code",
   "execution_count": 9,
   "metadata": {},
   "outputs": [
    {
     "name": "stdout",
     "output_type": "stream",
     "text": [
      "Overview of user's features per gender and company:\n"
     ]
    },
    {
     "data": {
      "text/html": [
       "<div>\n",
       "<style scoped>\n",
       "    .dataframe tbody tr th:only-of-type {\n",
       "        vertical-align: middle;\n",
       "    }\n",
       "\n",
       "    .dataframe tbody tr th {\n",
       "        vertical-align: top;\n",
       "    }\n",
       "\n",
       "    .dataframe thead tr th {\n",
       "        text-align: left;\n",
       "    }\n",
       "\n",
       "    .dataframe thead tr:last-of-type th {\n",
       "        text-align: right;\n",
       "    }\n",
       "</style>\n",
       "<table border=\"1\" class=\"dataframe\">\n",
       "  <thead>\n",
       "    <tr>\n",
       "      <th></th>\n",
       "      <th></th>\n",
       "      <th>userid</th>\n",
       "      <th colspan=\"4\" halign=\"left\">userage</th>\n",
       "      <th colspan=\"4\" halign=\"left\">genderguess</th>\n",
       "    </tr>\n",
       "    <tr>\n",
       "      <th></th>\n",
       "      <th></th>\n",
       "      <th>nunique</th>\n",
       "      <th>min</th>\n",
       "      <th>median</th>\n",
       "      <th>max</th>\n",
       "      <th>mean</th>\n",
       "      <th>male_count</th>\n",
       "      <th>female_count</th>\n",
       "      <th>male_female_ratio</th>\n",
       "      <th>unknown_count</th>\n",
       "    </tr>\n",
       "    <tr>\n",
       "      <th>companyname</th>\n",
       "      <th>industryname</th>\n",
       "      <th></th>\n",
       "      <th></th>\n",
       "      <th></th>\n",
       "      <th></th>\n",
       "      <th></th>\n",
       "      <th></th>\n",
       "      <th></th>\n",
       "      <th></th>\n",
       "      <th></th>\n",
       "    </tr>\n",
       "  </thead>\n",
       "  <tbody>\n",
       "    <tr>\n",
       "      <th rowspan=\"4\" valign=\"top\">Apple</th>\n",
       "      <th>Finance</th>\n",
       "      <td>96</td>\n",
       "      <td>18</td>\n",
       "      <td>27.0</td>\n",
       "      <td>40</td>\n",
       "      <td>27.208333</td>\n",
       "      <td>43</td>\n",
       "      <td>47</td>\n",
       "      <td>0.914894</td>\n",
       "      <td>5</td>\n",
       "    </tr>\n",
       "    <tr>\n",
       "      <th>Marketing</th>\n",
       "      <td>242</td>\n",
       "      <td>18</td>\n",
       "      <td>25.5</td>\n",
       "      <td>41</td>\n",
       "      <td>26.475207</td>\n",
       "      <td>110</td>\n",
       "      <td>112</td>\n",
       "      <td>0.982143</td>\n",
       "      <td>15</td>\n",
       "    </tr>\n",
       "    <tr>\n",
       "      <th>Sales</th>\n",
       "      <td>131</td>\n",
       "      <td>18</td>\n",
       "      <td>25.0</td>\n",
       "      <td>39</td>\n",
       "      <td>25.900763</td>\n",
       "      <td>57</td>\n",
       "      <td>65</td>\n",
       "      <td>0.876923</td>\n",
       "      <td>6</td>\n",
       "    </tr>\n",
       "    <tr>\n",
       "      <th>Tech</th>\n",
       "      <td>213</td>\n",
       "      <td>18</td>\n",
       "      <td>25.0</td>\n",
       "      <td>41</td>\n",
       "      <td>26.309859</td>\n",
       "      <td>94</td>\n",
       "      <td>102</td>\n",
       "      <td>0.921569</td>\n",
       "      <td>16</td>\n",
       "    </tr>\n",
       "    <tr>\n",
       "      <th rowspan=\"4\" valign=\"top\">Facebook</th>\n",
       "      <th>Finance</th>\n",
       "      <td>53</td>\n",
       "      <td>18</td>\n",
       "      <td>27.0</td>\n",
       "      <td>41</td>\n",
       "      <td>26.981132</td>\n",
       "      <td>24</td>\n",
       "      <td>23</td>\n",
       "      <td>1.043478</td>\n",
       "      <td>4</td>\n",
       "    </tr>\n",
       "    <tr>\n",
       "      <th>Marketing</th>\n",
       "      <td>116</td>\n",
       "      <td>18</td>\n",
       "      <td>27.0</td>\n",
       "      <td>41</td>\n",
       "      <td>27.129310</td>\n",
       "      <td>60</td>\n",
       "      <td>44</td>\n",
       "      <td>1.363636</td>\n",
       "      <td>11</td>\n",
       "    </tr>\n",
       "    <tr>\n",
       "      <th>Sales</th>\n",
       "      <td>47</td>\n",
       "      <td>18</td>\n",
       "      <td>29.0</td>\n",
       "      <td>41</td>\n",
       "      <td>28.851064</td>\n",
       "      <td>15</td>\n",
       "      <td>27</td>\n",
       "      <td>0.555556</td>\n",
       "      <td>5</td>\n",
       "    </tr>\n",
       "    <tr>\n",
       "      <th>Tech</th>\n",
       "      <td>117</td>\n",
       "      <td>18</td>\n",
       "      <td>27.0</td>\n",
       "      <td>41</td>\n",
       "      <td>27.350427</td>\n",
       "      <td>48</td>\n",
       "      <td>57</td>\n",
       "      <td>0.842105</td>\n",
       "      <td>9</td>\n",
       "    </tr>\n",
       "    <tr>\n",
       "      <th rowspan=\"4\" valign=\"top\">Pied Piper</th>\n",
       "      <th>Finance</th>\n",
       "      <td>47</td>\n",
       "      <td>18</td>\n",
       "      <td>24.0</td>\n",
       "      <td>40</td>\n",
       "      <td>26.191489</td>\n",
       "      <td>24</td>\n",
       "      <td>21</td>\n",
       "      <td>1.142857</td>\n",
       "      <td>1</td>\n",
       "    </tr>\n",
       "    <tr>\n",
       "      <th>Marketing</th>\n",
       "      <td>110</td>\n",
       "      <td>18</td>\n",
       "      <td>25.0</td>\n",
       "      <td>40</td>\n",
       "      <td>26.054545</td>\n",
       "      <td>40</td>\n",
       "      <td>61</td>\n",
       "      <td>0.655738</td>\n",
       "      <td>7</td>\n",
       "    </tr>\n",
       "    <tr>\n",
       "      <th>Sales</th>\n",
       "      <td>64</td>\n",
       "      <td>18</td>\n",
       "      <td>26.0</td>\n",
       "      <td>41</td>\n",
       "      <td>26.031250</td>\n",
       "      <td>32</td>\n",
       "      <td>23</td>\n",
       "      <td>1.391304</td>\n",
       "      <td>9</td>\n",
       "    </tr>\n",
       "    <tr>\n",
       "      <th>Tech</th>\n",
       "      <td>99</td>\n",
       "      <td>18</td>\n",
       "      <td>27.0</td>\n",
       "      <td>41</td>\n",
       "      <td>26.969697</td>\n",
       "      <td>42</td>\n",
       "      <td>51</td>\n",
       "      <td>0.823529</td>\n",
       "      <td>4</td>\n",
       "    </tr>\n",
       "    <tr>\n",
       "      <th rowspan=\"4\" valign=\"top\">Twitter</th>\n",
       "      <th>Finance</th>\n",
       "      <td>117</td>\n",
       "      <td>18</td>\n",
       "      <td>27.0</td>\n",
       "      <td>40</td>\n",
       "      <td>27.324786</td>\n",
       "      <td>51</td>\n",
       "      <td>55</td>\n",
       "      <td>0.927273</td>\n",
       "      <td>11</td>\n",
       "    </tr>\n",
       "    <tr>\n",
       "      <th>Marketing</th>\n",
       "      <td>208</td>\n",
       "      <td>18</td>\n",
       "      <td>28.0</td>\n",
       "      <td>40</td>\n",
       "      <td>27.259615</td>\n",
       "      <td>101</td>\n",
       "      <td>83</td>\n",
       "      <td>1.216867</td>\n",
       "      <td>20</td>\n",
       "    </tr>\n",
       "    <tr>\n",
       "      <th>Sales</th>\n",
       "      <td>129</td>\n",
       "      <td>18</td>\n",
       "      <td>29.0</td>\n",
       "      <td>41</td>\n",
       "      <td>28.263566</td>\n",
       "      <td>62</td>\n",
       "      <td>58</td>\n",
       "      <td>1.068966</td>\n",
       "      <td>9</td>\n",
       "    </tr>\n",
       "    <tr>\n",
       "      <th>Tech</th>\n",
       "      <td>211</td>\n",
       "      <td>18</td>\n",
       "      <td>28.0</td>\n",
       "      <td>41</td>\n",
       "      <td>27.189573</td>\n",
       "      <td>90</td>\n",
       "      <td>105</td>\n",
       "      <td>0.857143</td>\n",
       "      <td>15</td>\n",
       "    </tr>\n",
       "  </tbody>\n",
       "</table>\n",
       "</div>"
      ],
      "text/plain": [
       "                          userid userage                       genderguess  \\\n",
       "                         nunique     min median max       mean  male_count   \n",
       "companyname industryname                                                     \n",
       "Apple       Finance           96      18   27.0  40  27.208333          43   \n",
       "            Marketing        242      18   25.5  41  26.475207         110   \n",
       "            Sales            131      18   25.0  39  25.900763          57   \n",
       "            Tech             213      18   25.0  41  26.309859          94   \n",
       "Facebook    Finance           53      18   27.0  41  26.981132          24   \n",
       "            Marketing        116      18   27.0  41  27.129310          60   \n",
       "            Sales             47      18   29.0  41  28.851064          15   \n",
       "            Tech             117      18   27.0  41  27.350427          48   \n",
       "Pied Piper  Finance           47      18   24.0  40  26.191489          24   \n",
       "            Marketing        110      18   25.0  40  26.054545          40   \n",
       "            Sales             64      18   26.0  41  26.031250          32   \n",
       "            Tech              99      18   27.0  41  26.969697          42   \n",
       "Twitter     Finance          117      18   27.0  40  27.324786          51   \n",
       "            Marketing        208      18   28.0  40  27.259615         101   \n",
       "            Sales            129      18   29.0  41  28.263566          62   \n",
       "            Tech             211      18   28.0  41  27.189573          90   \n",
       "\n",
       "                                                                       \n",
       "                         female_count male_female_ratio unknown_count  \n",
       "companyname industryname                                               \n",
       "Apple       Finance                47          0.914894             5  \n",
       "            Marketing             112          0.982143            15  \n",
       "            Sales                  65          0.876923             6  \n",
       "            Tech                  102          0.921569            16  \n",
       "Facebook    Finance                23          1.043478             4  \n",
       "            Marketing              44          1.363636            11  \n",
       "            Sales                  27          0.555556             5  \n",
       "            Tech                   57          0.842105             9  \n",
       "Pied Piper  Finance                21          1.142857             1  \n",
       "            Marketing              61          0.655738             7  \n",
       "            Sales                  23          1.391304             9  \n",
       "            Tech                   51          0.823529             4  \n",
       "Twitter     Finance                55          0.927273            11  \n",
       "            Marketing              83          1.216867            20  \n",
       "            Sales                  58          1.068966             9  \n",
       "            Tech                  105          0.857143            15  "
      ]
     },
     "metadata": {},
     "output_type": "display_data"
    }
   ],
   "source": [
    "# Let's get a distribution of the user age and gender per company + industry pair\n",
    "print(f'''Overview of user's features per gender and company:''')\n",
    "display(\n",
    "    pop_df.groupby([\"companyname\", \"industryname\"]).agg({'userid':'nunique',\n",
    "                                                     'userage': [min, np.median, 'max', 'mean'], \n",
    "                                                     'genderguess': [male_count, female_count, male_female_ratio, unknown_count]\n",
    "                                                    })\n",
    ")"
   ]
  },
  {
   "cell_type": "markdown",
   "metadata": {},
   "source": [
    "In the above table we can see that the groups we get by splitting the users per company and industry are very similar when it comes to age and gender. \n",
    "\n",
    "* The min age registered for each group is 18 years for all groups.\n",
    "* The max age is either 40 or 41, with one exception (39)\n",
    "* The median age is always between 24 and 29 years old, while the mean is within the interval (26; 29) years old.\n",
    "* When it comes to `guessedgender` the ratio between male and female is also very similar among the different groups, and usually close to 1."
   ]
  },
  {
   "cell_type": "markdown",
   "metadata": {},
   "source": [
    "_______________\n",
    "## Emotional state\n",
    "\n",
    "To get this information, we will need the moodtracker table. \n",
    "\n",
    "We could do the necessary joins in SQL, but since the tables are small and we already added the gender column to our `pop_df`, the join will be done on this notebook."
   ]
  },
  {
   "cell_type": "code",
   "execution_count": 10,
   "metadata": {},
   "outputs": [
    {
     "data": {
      "text/html": [
       "<div>\n",
       "<style scoped>\n",
       "    .dataframe tbody tr th:only-of-type {\n",
       "        vertical-align: middle;\n",
       "    }\n",
       "\n",
       "    .dataframe tbody tr th {\n",
       "        vertical-align: top;\n",
       "    }\n",
       "\n",
       "    .dataframe thead th {\n",
       "        text-align: right;\n",
       "    }\n",
       "</style>\n",
       "<table border=\"1\" class=\"dataframe\">\n",
       "  <thead>\n",
       "    <tr style=\"text-align: right;\">\n",
       "      <th></th>\n",
       "      <th>id</th>\n",
       "      <th>userid</th>\n",
       "      <th>trackedat</th>\n",
       "      <th>mood</th>\n",
       "      <th>reasonid</th>\n",
       "    </tr>\n",
       "  </thead>\n",
       "  <tbody>\n",
       "    <tr>\n",
       "      <th>0</th>\n",
       "      <td>f0ed2548-dc73-45be-ac19-005331bfdd70</td>\n",
       "      <td>05733a01-7fda-4295-8ca4-1962ec5df898</td>\n",
       "      <td>2020-01-09 02:55:06</td>\n",
       "      <td>ok</td>\n",
       "      <td>57d9dc1ee66d040ed4e496a9</td>\n",
       "    </tr>\n",
       "    <tr>\n",
       "      <th>1</th>\n",
       "      <td>5bc270e5-2293-4eb6-b760-e2ef9e44daa2</td>\n",
       "      <td>57ccba4e-8df5-4d6e-a791-e47311196f0f</td>\n",
       "      <td>2020-01-15 15:54:53</td>\n",
       "      <td>angry</td>\n",
       "      <td>57db1d11e66d090e6410b868</td>\n",
       "    </tr>\n",
       "    <tr>\n",
       "      <th>2</th>\n",
       "      <td>394fb904-8c96-45e2-836e-2efdaa167c1a</td>\n",
       "      <td>5706369b-f2e5-4960-a45f-4aa22161fa3b</td>\n",
       "      <td>2020-01-22 01:39:22</td>\n",
       "      <td>angry</td>\n",
       "      <td>5c6c2a2a9c79eca733d4dd23</td>\n",
       "    </tr>\n",
       "    <tr>\n",
       "      <th>3</th>\n",
       "      <td>c5ede79a-f474-4a96-a6b4-0ec8119d9f73</td>\n",
       "      <td>e0be2515-b159-4dcb-9e50-85de5acefe6b</td>\n",
       "      <td>2020-01-31 12:52:46</td>\n",
       "      <td>happy</td>\n",
       "      <td>57d9dc21e66d040ed4e496c7</td>\n",
       "    </tr>\n",
       "    <tr>\n",
       "      <th>4</th>\n",
       "      <td>fa45550d-6a9c-4e8e-90e6-d73cc7202179</td>\n",
       "      <td>908138a6-fc5b-42cf-8cd4-0ac5ce0bdb1c</td>\n",
       "      <td>2020-01-09 19:50:06</td>\n",
       "      <td>ok</td>\n",
       "      <td>5c6c2a229c79eca733d4dd16</td>\n",
       "    </tr>\n",
       "  </tbody>\n",
       "</table>\n",
       "</div>"
      ],
      "text/plain": [
       "                                     id                                userid  \\\n",
       "0  f0ed2548-dc73-45be-ac19-005331bfdd70  05733a01-7fda-4295-8ca4-1962ec5df898   \n",
       "1  5bc270e5-2293-4eb6-b760-e2ef9e44daa2  57ccba4e-8df5-4d6e-a791-e47311196f0f   \n",
       "2  394fb904-8c96-45e2-836e-2efdaa167c1a  5706369b-f2e5-4960-a45f-4aa22161fa3b   \n",
       "3  c5ede79a-f474-4a96-a6b4-0ec8119d9f73  e0be2515-b159-4dcb-9e50-85de5acefe6b   \n",
       "4  fa45550d-6a9c-4e8e-90e6-d73cc7202179  908138a6-fc5b-42cf-8cd4-0ac5ce0bdb1c   \n",
       "\n",
       "             trackedat   mood                  reasonid  \n",
       "0  2020-01-09 02:55:06     ok  57d9dc1ee66d040ed4e496a9  \n",
       "1  2020-01-15 15:54:53  angry  57db1d11e66d090e6410b868  \n",
       "2  2020-01-22 01:39:22  angry  5c6c2a2a9c79eca733d4dd23  \n",
       "3  2020-01-31 12:52:46  happy  57d9dc21e66d040ed4e496c7  \n",
       "4  2020-01-09 19:50:06     ok  5c6c2a229c79eca733d4dd16  "
      ]
     },
     "execution_count": 10,
     "metadata": {},
     "output_type": "execute_result"
    }
   ],
   "source": [
    "# Get the moodtracker table\n",
    "moodtracker_df = pd.read_sql_table('moodtracker', engine)\n",
    "moodtracker_df.head()"
   ]
  },
  {
   "cell_type": "markdown",
   "metadata": {},
   "source": [
    "Let's check if all our userid in the moodtracker table are also in our `pop_df`"
   ]
  },
  {
   "cell_type": "code",
   "execution_count": 11,
   "metadata": {},
   "outputs": [
    {
     "name": "stdout",
     "output_type": "stream",
     "text": [
      "There are 0 userid in moodtracker_df not found in pop_df and 0 userid in pop_df not found in moodtracker_df\n"
     ]
    }
   ],
   "source": [
    "# Find how many userid may be missing from either one of the tables\n",
    "missing_f_moodtracker = set(moodtracker_df.userid) - set(pop_df.userid)\n",
    "missing_f_pop = set(pop_df.userid)- set(moodtracker_df.userid)\n",
    "\n",
    "print(f'There are {len(missing_f_moodtracker)} userid in moodtracker_df not found in pop_df and {len(missing_f_pop)} userid in pop_df not found in moodtracker_df')"
   ]
  },
  {
   "cell_type": "markdown",
   "metadata": {},
   "source": [
    "We see that we have total overlap of users in both tables, so we can join them without the fear of getting an incomplete merged table.\n",
    "\n",
    "Before that however, we are going to look into the moodtracker table by itself first."
   ]
  },
  {
   "cell_type": "code",
   "execution_count": 12,
   "metadata": {},
   "outputs": [
    {
     "name": "stdout",
     "output_type": "stream",
     "text": [
      "Possible mood values and registered counts:\n"
     ]
    },
    {
     "data": {
      "text/plain": [
       "angry          24577\n",
       "super-happy    24577\n",
       "happy          16545\n",
       "ok             16371\n",
       "sad            16273\n",
       "                1657\n",
       "dtype: int64"
      ]
     },
     "metadata": {},
     "output_type": "display_data"
    }
   ],
   "source": [
    "print(f'Possible mood values and registered counts:')\n",
    "display(moodtracker_df.mood.value_counts())"
   ]
  },
  {
   "cell_type": "markdown",
   "metadata": {},
   "source": [
    "Given that we have 100k registers (rows) in the moodtracker table, we can see that around 1.65% of our registers have an empty value for the mood variable. At this point it is not clear wether this is due to incorrect data or the tool not being used, so we won't address it for now."
   ]
  },
  {
   "cell_type": "code",
   "execution_count": 13,
   "metadata": {},
   "outputs": [],
   "source": [
    "# Let's check how many times the moodtracker feature is used per day per user\n",
    "moodtracker_df['trackedat_date'] = pd.to_datetime(moodtracker_df.trackedat).strftime('%Y-%m-%d')"
   ]
  },
  {
   "cell_type": "code",
   "execution_count": 14,
   "metadata": {},
   "outputs": [],
   "source": [
    "# Let's plot the number of moodtracker registers per day\n",
    "moodtracker_logs_day = moodtracker_df.trackedat_date.value_counts().sort_index().reset_index()\n",
    "moodtracker_logs_day.columns = ['trackedat_date', 'total_day_registers']"
   ]
  },
  {
   "cell_type": "code",
   "execution_count": 15,
   "metadata": {},
   "outputs": [
    {
     "data": {
      "image/png": "[encoded data removed]",
      "text/plain": [
       "<Figure size 1440x360 with 2 Axes>"
      ]
     },
     "metadata": {},
     "output_type": "display_data"
    }
   ],
   "source": [
    "# Let's check some summary statistics on the number of moodtracker registers\n",
    "f, (ax1, ax2) = plt.subplots(1, 2, gridspec_kw={'width_ratios': [6, 1]}, figsize=(20,5))\n",
    "\n",
    "chart=sns.lineplot(x='trackedat_date', y='total_day_registers', \n",
    "                 markers=True,\n",
    "                 data=moodtracker_logs_day, ax=ax1)\n",
    "\n",
    "ax1.set_xlabel(\"Date\")\n",
    "ax1.set_ylabel(\"Total Moodtracker registers\")\n",
    "ax1.tick_params('x',labelrotation=70)\n",
    "ax1.set_title(\"Number of moodtracker registers per day\")\n",
    "chart.yaxis.grid(False)\n",
    "\n",
    "font_size=14\n",
    "bbox=[0, 0, 1, 1]\n",
    "ax2.axis('off')\n",
    "ax2.set_title(\"Summary statistics\")\n",
    "mpl_table = ax2.table(cellText = moodtracker_logs_day.describe().round(2).values, \n",
    "                      rowLabels = moodtracker_logs_day.describe().index, \n",
    "                      bbox=bbox, \n",
    "                      colLabels=moodtracker_logs_day.describe().columns)\n",
    "mpl_table.auto_set_font_size(False)\n",
    "mpl_table.set_fontsize(font_size)"
   ]
  },
  {
   "cell_type": "markdown",
   "metadata": {},
   "source": [
    "We can see in the plot above that the number of registers on the moodtracker table until 2020-01-22, where we can see an increase to a new level, that is sustained until 2020-01-27. During this interval the values are very consistent, as we can see by how tight the percentile range is, since the values for the 25%, 50% and 75% percentiles are very close to each other.\n",
    "\n",
    "Following this we see a sharp dip on 2020-01-28, followed by a small increase the following day and another dip to the minimum value registered of 887, followed by another increase on the last day of the month."
   ]
  },
  {
   "cell_type": "code",
   "execution_count": 35,
   "metadata": {},
   "outputs": [],
   "source": [
    "# Let's compute how many mood values each user registers per day\n",
    "daily_mood_user = moodtracker_df.groupby([\"trackedat_date\", \"userid\"]).agg({\"trackedat\" : \"nunique\",\n",
    "                                                          \"mood\": [\"unique\", 'nunique'],\n",
    "                                                         })\n",
    "# Flatten multiindex table\n",
    "daily_mood_user = daily_mood_user.stack().reset_index().rename(columns = {\"level_2\":\"applied_function\"}).copy()"
   ]
  },
  {
   "cell_type": "code",
   "execution_count": 142,
   "metadata": {},
   "outputs": [
    {
     "data": {
      "image/png": "[encoded data removed]",
      "text/plain": [
       "<Figure size 720x360 with 1 Axes>"
      ]
     },
     "metadata": {},
     "output_type": "display_data"
    },
    {
     "name": "stdout",
     "output_type": "stream",
     "text": [
      "There are a total of 99996 logs.\n",
      "The probability of a user using the tracker 5 or more times is 6.14%\n"
     ]
    }
   ],
   "source": [
    "# Count the number of distinct \n",
    "daily_mood_user_count = daily_mood_user.query(\"applied_function == 'nunique'\").trackedat.value_counts().reset_index().copy()\n",
    "daily_mood_user_count.columns = [\"number_of_registers\", \"count\"]\n",
    "\n",
    "# Plot the frequency of the amount of logs per user daily\n",
    "x = daily_mood_user_count[\"number_of_registers\"]\n",
    "height = daily_mood_user_count[\"count\"]\n",
    "\n",
    "fig = plt.figure(figsize=(10,5))\n",
    "_ = plt.bar(x=x,\n",
    "        height=height)\n",
    "\n",
    "plt.xlim([x.min()-0.5,x.max()+0.5])\n",
    "plt.title(\"Amount of logs per user in a day\")\n",
    "plt.xlabel(\"Number of logs in a day per user\")\n",
    "plt.ylabel(\"Frequency\")\n",
    "plt.xticks(x)\n",
    "plt.show()\n",
    "\n",
    "# Total of logs that were logged in a batch < 4 per day\n",
    "sum((daily_mood_user_count[\"count\"]*daily_mood_user_count[\"number_of_registers\"]/99996*100)[0:3])\n",
    "\n",
    "total_logs = round(sum(daily_mood_user_count[\"count\"]*daily_mood_user_count[\"number_of_registers\"]))\n",
    "print(f'There are a total of {str(total_logs)} logs.')\n",
    "\n",
    "prob_more_than5 = round(sum(daily_mood_user_count[\"count\"][4:])/sum(daily_mood_user_count[\"count\"])*100,2)\n",
    "print(f\"The probability of a user using the tracker 5 or more times is {prob_more_than5}%\")"
   ]
  },
  {
   "cell_type": "markdown",
   "metadata": {},
   "source": [
    "Like shown in the plot above, usually the vast majority of users tend to use the moodtracker between 1 to 3 times per day (this group represent around 68% of the registers in the table). We also see that there is a very low probability of a user using the moodtracker 5 or more times in the same day.\n",
    "\n",
    "This plot raises 2 questions though:\n",
    "* The total of logs computed from the plot is 99996 logs instead of the original 100000. What happened to the missing 4?\n",
    "* This plot does not show the amount of different moods logged throughout the day. What if a user logs more than 1 mood per day?"
   ]
  },
  {
   "cell_type": "code",
   "execution_count": 152,
   "metadata": {},
   "outputs": [
    {
     "name": "stdout",
     "output_type": "stream",
     "text": [
      "There are 4 duplicate userid/timestamp pairs.\n",
      "Duplicate entries:\n"
     ]
    },
    {
     "data": {
      "text/html": [
       "<div>\n",
       "<style scoped>\n",
       "    .dataframe tbody tr th:only-of-type {\n",
       "        vertical-align: middle;\n",
       "    }\n",
       "\n",
       "    .dataframe tbody tr th {\n",
       "        vertical-align: top;\n",
       "    }\n",
       "\n",
       "    .dataframe thead th {\n",
       "        text-align: right;\n",
       "    }\n",
       "</style>\n",
       "<table border=\"1\" class=\"dataframe\">\n",
       "  <thead>\n",
       "    <tr style=\"text-align: right;\">\n",
       "      <th></th>\n",
       "      <th>id</th>\n",
       "      <th>userid</th>\n",
       "      <th>trackedat</th>\n",
       "      <th>mood</th>\n",
       "      <th>reasonid</th>\n",
       "      <th>trackedat_date</th>\n",
       "    </tr>\n",
       "  </thead>\n",
       "  <tbody>\n",
       "    <tr>\n",
       "      <th>18911</th>\n",
       "      <td>1c694811-e7fb-4fb4-80f0-ee8ec095d19a</td>\n",
       "      <td>5503d473-aa7c-47fa-93ae-e000d54d2531</td>\n",
       "      <td>2020-01-02 18:52:29</td>\n",
       "      <td>angry</td>\n",
       "      <td>58335abb514129a045865b08</td>\n",
       "      <td>2020-01-02</td>\n",
       "    </tr>\n",
       "    <tr>\n",
       "      <th>61396</th>\n",
       "      <td>824d5ca9-5fad-44e6-a907-be2515df0766</td>\n",
       "      <td>5503d473-aa7c-47fa-93ae-e000d54d2531</td>\n",
       "      <td>2020-01-02 18:52:29</td>\n",
       "      <td>happy</td>\n",
       "      <td>5c6c293f9c79eca733d4dd0b</td>\n",
       "      <td>2020-01-02</td>\n",
       "    </tr>\n",
       "    <tr>\n",
       "      <th>16280</th>\n",
       "      <td>26e281f2-092d-45e6-839d-875d1716e4cf</td>\n",
       "      <td>833800cf-b9d2-4e95-89db-5a1d17c97dc7</td>\n",
       "      <td>2020-01-10 18:51:52</td>\n",
       "      <td>angry</td>\n",
       "      <td>5c6c2a259c79eca733d4dd1b</td>\n",
       "      <td>2020-01-10</td>\n",
       "    </tr>\n",
       "    <tr>\n",
       "      <th>27059</th>\n",
       "      <td>64bbf981-f851-412c-9942-e76d5ab77e40</td>\n",
       "      <td>833800cf-b9d2-4e95-89db-5a1d17c97dc7</td>\n",
       "      <td>2020-01-10 18:51:52</td>\n",
       "      <td>ok</td>\n",
       "      <td>57d9dc1ee66d040ed4e496a9</td>\n",
       "      <td>2020-01-10</td>\n",
       "    </tr>\n",
       "    <tr>\n",
       "      <th>55622</th>\n",
       "      <td>d51138fc-8c8e-4a38-b2bc-db89a2da8bf9</td>\n",
       "      <td>a7ccfd35-58fa-484e-aeee-f1d9e6167d6e</td>\n",
       "      <td>2020-01-10 22:14:49</td>\n",
       "      <td>super-happy</td>\n",
       "      <td>57d9dc1de66d040ed4e4969e</td>\n",
       "      <td>2020-01-10</td>\n",
       "    </tr>\n",
       "    <tr>\n",
       "      <th>78862</th>\n",
       "      <td>f153221c-b54f-4eef-ad91-d60ce7f49f1f</td>\n",
       "      <td>a7ccfd35-58fa-484e-aeee-f1d9e6167d6e</td>\n",
       "      <td>2020-01-10 22:14:49</td>\n",
       "      <td>super-happy</td>\n",
       "      <td>5b0d5ce1abb35bed38c2ce52</td>\n",
       "      <td>2020-01-10</td>\n",
       "    </tr>\n",
       "    <tr>\n",
       "      <th>18418</th>\n",
       "      <td>6c56ea16-a95f-45c5-ae8f-4e8c856efc86</td>\n",
       "      <td>14050378-d393-4821-9291-cce422f981e6</td>\n",
       "      <td>2020-01-21 18:13:41</td>\n",
       "      <td>super-happy</td>\n",
       "      <td>57d9dc1de66d040ed4e4969e</td>\n",
       "      <td>2020-01-21</td>\n",
       "    </tr>\n",
       "    <tr>\n",
       "      <th>43383</th>\n",
       "      <td>71b1a22c-c51a-4659-ad4a-f46f6b44f3a3</td>\n",
       "      <td>14050378-d393-4821-9291-cce422f981e6</td>\n",
       "      <td>2020-01-21 18:13:41</td>\n",
       "      <td>happy</td>\n",
       "      <td>58335abb514129a045865b08</td>\n",
       "      <td>2020-01-21</td>\n",
       "    </tr>\n",
       "  </tbody>\n",
       "</table>\n",
       "</div>"
      ],
      "text/plain": [
       "                                         id  \\\n",
       "18911  1c694811-e7fb-4fb4-80f0-ee8ec095d19a   \n",
       "61396  824d5ca9-5fad-44e6-a907-be2515df0766   \n",
       "16280  26e281f2-092d-45e6-839d-875d1716e4cf   \n",
       "27059  64bbf981-f851-412c-9942-e76d5ab77e40   \n",
       "55622  d51138fc-8c8e-4a38-b2bc-db89a2da8bf9   \n",
       "78862  f153221c-b54f-4eef-ad91-d60ce7f49f1f   \n",
       "18418  6c56ea16-a95f-45c5-ae8f-4e8c856efc86   \n",
       "43383  71b1a22c-c51a-4659-ad4a-f46f6b44f3a3   \n",
       "\n",
       "                                     userid            trackedat         mood  \\\n",
       "18911  5503d473-aa7c-47fa-93ae-e000d54d2531  2020-01-02 18:52:29        angry   \n",
       "61396  5503d473-aa7c-47fa-93ae-e000d54d2531  2020-01-02 18:52:29        happy   \n",
       "16280  833800cf-b9d2-4e95-89db-5a1d17c97dc7  2020-01-10 18:51:52        angry   \n",
       "27059  833800cf-b9d2-4e95-89db-5a1d17c97dc7  2020-01-10 18:51:52           ok   \n",
       "55622  a7ccfd35-58fa-484e-aeee-f1d9e6167d6e  2020-01-10 22:14:49  super-happy   \n",
       "78862  a7ccfd35-58fa-484e-aeee-f1d9e6167d6e  2020-01-10 22:14:49  super-happy   \n",
       "18418  14050378-d393-4821-9291-cce422f981e6  2020-01-21 18:13:41  super-happy   \n",
       "43383  14050378-d393-4821-9291-cce422f981e6  2020-01-21 18:13:41        happy   \n",
       "\n",
       "                       reasonid trackedat_date  \n",
       "18911  58335abb514129a045865b08     2020-01-02  \n",
       "61396  5c6c293f9c79eca733d4dd0b     2020-01-02  \n",
       "16280  5c6c2a259c79eca733d4dd1b     2020-01-10  \n",
       "27059  57d9dc1ee66d040ed4e496a9     2020-01-10  \n",
       "55622  57d9dc1de66d040ed4e4969e     2020-01-10  \n",
       "78862  5b0d5ce1abb35bed38c2ce52     2020-01-10  \n",
       "18418  57d9dc1de66d040ed4e4969e     2020-01-21  \n",
       "43383  58335abb514129a045865b08     2020-01-21  "
      ]
     },
     "metadata": {},
     "output_type": "display_data"
    }
   ],
   "source": [
    "# Since we grouped the data by userid and date and counted the distinct timestamps to get the number of logs\n",
    "# we should check if there are duplicate pair of userid/trackedat timestamps\n",
    "\n",
    "print(f'There are {sum(moodtracker_df.duplicated([\"userid\", \"trackedat\"]))} duplicate userid/timestamp pairs.')\n",
    "print(\"Duplicate entries:\")\n",
    "display(moodtracker_df[moodtracker_df.duplicated([\"userid\", \"trackedat\"], keep = False)].sort_values(\"trackedat\"))"
   ]
  },
  {
   "cell_type": "markdown",
   "metadata": {},
   "source": [
    "We now know where the 4 missing entries are. We can see that there are entries with the same userid and timestamp, but with they are either duplicates or have different moods. Since there are only 4 instances of this out of 100k rows in the table, we are not fixing it for the scope of this report."
   ]
  },
  {
   "cell_type": "code",
   "execution_count": 167,
   "metadata": {},
   "outputs": [
    {
     "data": {
      "image/png": "[encoded data removed]",
      "text/plain": [
       "<Figure size 720x360 with 1 Axes>"
      ]
     },
     "metadata": {},
     "output_type": "display_data"
    },
    {
     "name": "stdout",
     "output_type": "stream",
     "text": [
      "There are a total of 82994 logs.\n",
      "The probability of a user registering 3 or more distinct moods is 20.65%\n"
     ]
    }
   ],
   "source": [
    "# Count the number of distinct \n",
    "daily_mood_mood_count = daily_mood_user.query(\"applied_function == 'nunique'\").mood.value_counts().reset_index().copy()\n",
    "daily_mood_mood_count.columns = [\"number_of_mood\", \"count\"]\n",
    "\n",
    "# Plot the frequency of the amount of logs per user daily\n",
    "x = daily_mood_mood_count[\"number_of_mood\"]\n",
    "height = daily_mood_mood_count[\"count\"]\n",
    "\n",
    "fig = plt.figure(figsize=(10,5))\n",
    "_ = plt.bar(x=x,\n",
    "        height= height)\n",
    "\n",
    "plt.xlim([x.min()-0.5,x.max()+0.5])\n",
    "plt.title(\"Amount of unique mood statuses logged per user in a day\")\n",
    "plt.xlabel(\"Number of logs in a day per user\")\n",
    "plt.ylabel(\"Frequency\")\n",
    "plt.xticks(x)\n",
    "plt.show()\n",
    "\n",
    "# Total of logs that were logged in a batch < 4 per day\n",
    "sum((daily_mood_mood_count[\"count\"]*daily_mood_mood_count[\"number_of_mood\"]/99996*100)[0:3])\n",
    "\n",
    "total_logs = round(sum(daily_mood_mood_count[\"count\"]*daily_mood_mood_count[\"number_of_mood\"]))\n",
    "print(f'There are a total of {str(total_logs)} logs.')\n",
    "\n",
    "prob_more_than = round(sum(daily_mood_mood_count[\"count\"][2:])/sum(daily_mood_mood_count[\"count\"])*100,2)\n",
    "print(f\"The probability of a user registering 3 or more distinct moods is {prob_more_than}%\")"
   ]
  },
  {
   "cell_type": "markdown",
   "metadata": {},
   "source": [
    "Similar to what've seen before, most of the users log 1 or 2 different kinds of mood in a given day. We can see that only 1 in 4 people register 3 or more **distinct** mood statuses in a day. It's important to make this distinction, since it will be crucial in how we go about analysing the mood of the users over time.\n",
    "\n",
    "Like before, we have inconsistent number of logs, 82994 vs 100000. We aggregated our data by userid and date. If in the same day, the same user logged the same mood more than once, we are only counting it once (hence the importance of being explicit about **distinct** mood values). "
   ]
  },
  {
   "cell_type": "code",
   "execution_count": 165,
   "metadata": {},
   "outputs": [
    {
     "name": "stdout",
     "output_type": "stream",
     "text": [
      "There are 17006 duplicate userid/date/mood tuples.\n"
     ]
    }
   ],
   "source": [
    "# Let's check for duplicated moods logged in the same day\n",
    "\n",
    "print(f'There are {sum(moodtracker_df.duplicated([\"userid\", \"trackedat_date\", \"mood\"]))} duplicate userid/date/mood tuples.')"
   ]
  },
  {
   "cell_type": "markdown",
   "metadata": {},
   "source": [
    "This number lines up perfectly with the 82944 value computed before, since they add up to the total number of 100000 registers.\n",
    "\n",
    "Now that we have some insights regarding the use of the moodtracker, we can start to think about how to connect the information on `moodtracker_df` with the one of the population."
   ]
  },
  {
   "cell_type": "markdown",
   "metadata": {},
   "source": [
    "_______________\n",
    "## Population + Moodtracker\n",
    "\n",
    "Our target variable is **mood**. This is a categorical variable, meaning that we can't simply compute it's average value for each day, since all we have are strings. There are 2 strategies that we are going to follow in parallel.\n",
    "\n",
    "* Since we have some insight on the moodtracker data, we can transform our table to make our life easier while still using the data correctly. Here's what we know:\n",
    "    * Most users don't use the moodtracker feature more than 2~3 times per day.\n",
    "    * 80% of the users log either 1 or 2 distinct moods in a day.\n",
    "    * "
   ]
  },
  {
   "cell_type": "code",
   "execution_count": 216,
   "metadata": {},
   "outputs": [
    {
     "data": {
      "text/html": [
       "<div>\n",
       "<style scoped>\n",
       "    .dataframe tbody tr th:only-of-type {\n",
       "        vertical-align: middle;\n",
       "    }\n",
       "\n",
       "    .dataframe tbody tr th {\n",
       "        vertical-align: top;\n",
       "    }\n",
       "\n",
       "    .dataframe thead th {\n",
       "        text-align: right;\n",
       "    }\n",
       "</style>\n",
       "<table border=\"1\" class=\"dataframe\">\n",
       "  <thead>\n",
       "    <tr style=\"text-align: right;\">\n",
       "      <th></th>\n",
       "      <th>trackedat_date</th>\n",
       "      <th>mood</th>\n",
       "      <th>userid</th>\n",
       "    </tr>\n",
       "  </thead>\n",
       "  <tbody>\n",
       "    <tr>\n",
       "      <th>0</th>\n",
       "      <td>2020-01-01</td>\n",
       "      <td></td>\n",
       "      <td>37</td>\n",
       "    </tr>\n",
       "    <tr>\n",
       "      <th>1</th>\n",
       "      <td>2020-01-01</td>\n",
       "      <td>angry</td>\n",
       "      <td>653</td>\n",
       "    </tr>\n",
       "    <tr>\n",
       "      <th>2</th>\n",
       "      <td>2020-01-01</td>\n",
       "      <td>happy</td>\n",
       "      <td>462</td>\n",
       "    </tr>\n",
       "    <tr>\n",
       "      <th>3</th>\n",
       "      <td>2020-01-01</td>\n",
       "      <td>ok</td>\n",
       "      <td>419</td>\n",
       "    </tr>\n",
       "    <tr>\n",
       "      <th>4</th>\n",
       "      <td>2020-01-01</td>\n",
       "      <td>sad</td>\n",
       "      <td>461</td>\n",
       "    </tr>\n",
       "    <tr>\n",
       "      <th>...</th>\n",
       "      <td>...</td>\n",
       "      <td>...</td>\n",
       "      <td>...</td>\n",
       "    </tr>\n",
       "    <tr>\n",
       "      <th>181</th>\n",
       "      <td>2020-01-31</td>\n",
       "      <td>angry</td>\n",
       "      <td>783</td>\n",
       "    </tr>\n",
       "    <tr>\n",
       "      <th>182</th>\n",
       "      <td>2020-01-31</td>\n",
       "      <td>happy</td>\n",
       "      <td>536</td>\n",
       "    </tr>\n",
       "    <tr>\n",
       "      <th>183</th>\n",
       "      <td>2020-01-31</td>\n",
       "      <td>ok</td>\n",
       "      <td>563</td>\n",
       "    </tr>\n",
       "    <tr>\n",
       "      <th>184</th>\n",
       "      <td>2020-01-31</td>\n",
       "      <td>sad</td>\n",
       "      <td>556</td>\n",
       "    </tr>\n",
       "    <tr>\n",
       "      <th>185</th>\n",
       "      <td>2020-01-31</td>\n",
       "      <td>super-happy</td>\n",
       "      <td>809</td>\n",
       "    </tr>\n",
       "  </tbody>\n",
       "</table>\n",
       "<p>186 rows × 3 columns</p>\n",
       "</div>"
      ],
      "text/plain": [
       "    trackedat_date         mood  userid\n",
       "0       2020-01-01                   37\n",
       "1       2020-01-01        angry     653\n",
       "2       2020-01-01        happy     462\n",
       "3       2020-01-01           ok     419\n",
       "4       2020-01-01          sad     461\n",
       "..             ...          ...     ...\n",
       "181     2020-01-31        angry     783\n",
       "182     2020-01-31        happy     536\n",
       "183     2020-01-31           ok     563\n",
       "184     2020-01-31          sad     556\n",
       "185     2020-01-31  super-happy     809\n",
       "\n",
       "[186 rows x 3 columns]"
      ]
     },
     "execution_count": 216,
     "metadata": {},
     "output_type": "execute_result"
    }
   ],
   "source": [
    "# Let's check the evolution of each mood along time\n",
    "\n",
    "moodtracker_df.groupby([\"trackedat_date\", \"mood\"])[\"userid\"].count().reset_index()"
   ]
  },
  {
   "cell_type": "code",
   "execution_count": null,
   "metadata": {},
   "outputs": [],
   "source": []
  }
 ],
 "metadata": {
  "kernelspec": {
   "display_name": "Python 3",
   "language": "python",
   "name": "python3"
  },
  "language_info": {
   "codemirror_mode": {
    "name": "ipython",
    "version": 3
   },
   "file_extension": ".py",
   "mimetype": "text/x-python",
   "name": "python",
   "nbconvert_exporter": "python",
   "pygments_lexer": "ipython3",
   "version": "3.7.5"
  }
 },
 "nbformat": 4,
 "nbformat_minor": 4
}
