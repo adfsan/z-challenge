{
 "cells": [
  {
   "cell_type": "markdown",
   "metadata": {},
   "source": [
    "## Explore JSON files"
   ]
  },
  {
   "cell_type": "markdown",
   "metadata": {},
   "source": [
    "Some of the information was shared as JSON files, so I find it easier to parse them with Python and write them to the database from here."
   ]
  },
  {
   "cell_type": "code",
   "execution_count": 8,
   "metadata": {},
   "outputs": [],
   "source": [
    "# Imports\n",
    "import pandas as pd\n",
    "from PsqlConn import create_psql_engine"
   ]
  },
  {
   "cell_type": "code",
   "execution_count": 10,
   "metadata": {},
   "outputs": [],
   "source": [
    "# Read raw json files\n",
    "users = pd.read_json('raw_data/users.json')\n",
    "moodtracker = pd.read_json('raw_data/mood_tracker.json')"
   ]
  },
  {
   "cell_type": "code",
   "execution_count": 12,
   "metadata": {},
   "outputs": [
    {
     "data": {
      "text/html": [
       "<div>\n",
       "<style scoped>\n",
       "    .dataframe tbody tr th:only-of-type {\n",
       "        vertical-align: middle;\n",
       "    }\n",
       "\n",
       "    .dataframe tbody tr th {\n",
       "        vertical-align: top;\n",
       "    }\n",
       "\n",
       "    .dataframe thead th {\n",
       "        text-align: right;\n",
       "    }\n",
       "</style>\n",
       "<table border=\"1\" class=\"dataframe\">\n",
       "  <thead>\n",
       "    <tr style=\"text-align: right;\">\n",
       "      <th></th>\n",
       "      <th>id</th>\n",
       "      <th>name</th>\n",
       "      <th>companyId</th>\n",
       "      <th>industryId</th>\n",
       "      <th>age</th>\n",
       "    </tr>\n",
       "  </thead>\n",
       "  <tbody>\n",
       "    <tr>\n",
       "      <th>0</th>\n",
       "      <td>7eaa8c24-caeb-4736-a907-10531a2e0617</td>\n",
       "      <td>Amari</td>\n",
       "      <td>3</td>\n",
       "      <td>1</td>\n",
       "      <td>29</td>\n",
       "    </tr>\n",
       "    <tr>\n",
       "      <th>1</th>\n",
       "      <td>29806e90-4705-40be-9a0d-2a6300118c45</td>\n",
       "      <td>Willow</td>\n",
       "      <td>4</td>\n",
       "      <td>1</td>\n",
       "      <td>19</td>\n",
       "    </tr>\n",
       "    <tr>\n",
       "      <th>2</th>\n",
       "      <td>fd44a7c3-0bb8-4e90-944c-bb39ff152b99</td>\n",
       "      <td>Sterling</td>\n",
       "      <td>4</td>\n",
       "      <td>3</td>\n",
       "      <td>23</td>\n",
       "    </tr>\n",
       "    <tr>\n",
       "      <th>3</th>\n",
       "      <td>a24e83f4-4baf-46eb-81c8-e7fefd2c5638</td>\n",
       "      <td>Enid</td>\n",
       "      <td>4</td>\n",
       "      <td>1</td>\n",
       "      <td>21</td>\n",
       "    </tr>\n",
       "    <tr>\n",
       "      <th>4</th>\n",
       "      <td>4c316039-6b32-4fdf-bd02-832ce58f7fd8</td>\n",
       "      <td>Cayla</td>\n",
       "      <td>1</td>\n",
       "      <td>3</td>\n",
       "      <td>38</td>\n",
       "    </tr>\n",
       "  </tbody>\n",
       "</table>\n",
       "</div>"
      ],
      "text/plain": [
       "                                     id      name  companyId  industryId  age\n",
       "0  7eaa8c24-caeb-4736-a907-10531a2e0617     Amari          3           1   29\n",
       "1  29806e90-4705-40be-9a0d-2a6300118c45    Willow          4           1   19\n",
       "2  fd44a7c3-0bb8-4e90-944c-bb39ff152b99  Sterling          4           3   23\n",
       "3  a24e83f4-4baf-46eb-81c8-e7fefd2c5638      Enid          4           1   21\n",
       "4  4c316039-6b32-4fdf-bd02-832ce58f7fd8     Cayla          1           3   38"
      ]
     },
     "execution_count": 12,
     "metadata": {},
     "output_type": "execute_result"
    }
   ],
   "source": [
    "users.head()"
   ]
  },
  {
   "cell_type": "code",
   "execution_count": 13,
   "metadata": {},
   "outputs": [
    {
     "data": {
      "text/html": [
       "<div>\n",
       "<style scoped>\n",
       "    .dataframe tbody tr th:only-of-type {\n",
       "        vertical-align: middle;\n",
       "    }\n",
       "\n",
       "    .dataframe tbody tr th {\n",
       "        vertical-align: top;\n",
       "    }\n",
       "\n",
       "    .dataframe thead th {\n",
       "        text-align: right;\n",
       "    }\n",
       "</style>\n",
       "<table border=\"1\" class=\"dataframe\">\n",
       "  <thead>\n",
       "    <tr style=\"text-align: right;\">\n",
       "      <th></th>\n",
       "      <th>_id</th>\n",
       "      <th>userId</th>\n",
       "      <th>trackedAt</th>\n",
       "      <th>mood</th>\n",
       "      <th>reasonId</th>\n",
       "    </tr>\n",
       "  </thead>\n",
       "  <tbody>\n",
       "    <tr>\n",
       "      <th>0</th>\n",
       "      <td>f0ed2548-dc73-45be-ac19-005331bfdd70</td>\n",
       "      <td>05733a01-7fda-4295-8ca4-1962ec5df898</td>\n",
       "      <td>2020-01-09 02:55:06</td>\n",
       "      <td>ok</td>\n",
       "      <td>57d9dc1ee66d040ed4e496a9</td>\n",
       "    </tr>\n",
       "    <tr>\n",
       "      <th>1</th>\n",
       "      <td>5bc270e5-2293-4eb6-b760-e2ef9e44daa2</td>\n",
       "      <td>57ccba4e-8df5-4d6e-a791-e47311196f0f</td>\n",
       "      <td>2020-01-15 15:54:53</td>\n",
       "      <td>angry</td>\n",
       "      <td>57db1d11e66d090e6410b868</td>\n",
       "    </tr>\n",
       "    <tr>\n",
       "      <th>2</th>\n",
       "      <td>394fb904-8c96-45e2-836e-2efdaa167c1a</td>\n",
       "      <td>5706369b-f2e5-4960-a45f-4aa22161fa3b</td>\n",
       "      <td>2020-01-22 01:39:22</td>\n",
       "      <td>angry</td>\n",
       "      <td>5c6c2a2a9c79eca733d4dd23</td>\n",
       "    </tr>\n",
       "    <tr>\n",
       "      <th>3</th>\n",
       "      <td>c5ede79a-f474-4a96-a6b4-0ec8119d9f73</td>\n",
       "      <td>e0be2515-b159-4dcb-9e50-85de5acefe6b</td>\n",
       "      <td>2020-01-31 12:52:46</td>\n",
       "      <td>happy</td>\n",
       "      <td>57d9dc21e66d040ed4e496c7</td>\n",
       "    </tr>\n",
       "    <tr>\n",
       "      <th>4</th>\n",
       "      <td>fa45550d-6a9c-4e8e-90e6-d73cc7202179</td>\n",
       "      <td>908138a6-fc5b-42cf-8cd4-0ac5ce0bdb1c</td>\n",
       "      <td>2020-01-09 19:50:06</td>\n",
       "      <td>ok</td>\n",
       "      <td>ObjectId(\"5c6c2a229c79eca733d4dd16\")</td>\n",
       "    </tr>\n",
       "  </tbody>\n",
       "</table>\n",
       "</div>"
      ],
      "text/plain": [
       "                                    _id                                userId  \\\n",
       "0  f0ed2548-dc73-45be-ac19-005331bfdd70  05733a01-7fda-4295-8ca4-1962ec5df898   \n",
       "1  5bc270e5-2293-4eb6-b760-e2ef9e44daa2  57ccba4e-8df5-4d6e-a791-e47311196f0f   \n",
       "2  394fb904-8c96-45e2-836e-2efdaa167c1a  5706369b-f2e5-4960-a45f-4aa22161fa3b   \n",
       "3  c5ede79a-f474-4a96-a6b4-0ec8119d9f73  e0be2515-b159-4dcb-9e50-85de5acefe6b   \n",
       "4  fa45550d-6a9c-4e8e-90e6-d73cc7202179  908138a6-fc5b-42cf-8cd4-0ac5ce0bdb1c   \n",
       "\n",
       "             trackedAt   mood                              reasonId  \n",
       "0  2020-01-09 02:55:06     ok              57d9dc1ee66d040ed4e496a9  \n",
       "1  2020-01-15 15:54:53  angry              57db1d11e66d090e6410b868  \n",
       "2  2020-01-22 01:39:22  angry              5c6c2a2a9c79eca733d4dd23  \n",
       "3  2020-01-31 12:52:46  happy              57d9dc21e66d040ed4e496c7  \n",
       "4  2020-01-09 19:50:06     ok  ObjectId(\"5c6c2a229c79eca733d4dd16\")  "
      ]
     },
     "execution_count": 13,
     "metadata": {},
     "output_type": "execute_result"
    }
   ],
   "source": [
    "moodtracker.head()"
   ]
  },
  {
   "cell_type": "code",
   "execution_count": 24,
   "metadata": {},
   "outputs": [],
   "source": [
    "# Lowercase the column names for consistency\n",
    "users.columns = map(str.lower, users.columns)\n",
    "moodtracker.columns = map(str.lower, moodtracker.columns)\n",
    "\n",
    "# The moodtracker table id column is named _id, let's remove the _ for consistency\n",
    "moodtracker.columns = [x.strip('_') for x in moodtracker.columns.values]"
   ]
  },
  {
   "cell_type": "code",
   "execution_count": 25,
   "metadata": {},
   "outputs": [
    {
     "data": {
      "text/html": [
       "<div>\n",
       "<style scoped>\n",
       "    .dataframe tbody tr th:only-of-type {\n",
       "        vertical-align: middle;\n",
       "    }\n",
       "\n",
       "    .dataframe tbody tr th {\n",
       "        vertical-align: top;\n",
       "    }\n",
       "\n",
       "    .dataframe thead th {\n",
       "        text-align: right;\n",
       "    }\n",
       "</style>\n",
       "<table border=\"1\" class=\"dataframe\">\n",
       "  <thead>\n",
       "    <tr style=\"text-align: right;\">\n",
       "      <th></th>\n",
       "      <th>id</th>\n",
       "      <th>name</th>\n",
       "      <th>companyid</th>\n",
       "      <th>industryid</th>\n",
       "      <th>age</th>\n",
       "    </tr>\n",
       "  </thead>\n",
       "  <tbody>\n",
       "    <tr>\n",
       "      <th>0</th>\n",
       "      <td>7eaa8c24-caeb-4736-a907-10531a2e0617</td>\n",
       "      <td>Amari</td>\n",
       "      <td>3</td>\n",
       "      <td>1</td>\n",
       "      <td>29</td>\n",
       "    </tr>\n",
       "  </tbody>\n",
       "</table>\n",
       "</div>"
      ],
      "text/plain": [
       "                                     id   name  companyid  industryid  age\n",
       "0  7eaa8c24-caeb-4736-a907-10531a2e0617  Amari          3           1   29"
      ]
     },
     "execution_count": 25,
     "metadata": {},
     "output_type": "execute_result"
    }
   ],
   "source": [
    "users.head(1)"
   ]
  },
  {
   "cell_type": "code",
   "execution_count": 26,
   "metadata": {},
   "outputs": [
    {
     "data": {
      "text/html": [
       "<div>\n",
       "<style scoped>\n",
       "    .dataframe tbody tr th:only-of-type {\n",
       "        vertical-align: middle;\n",
       "    }\n",
       "\n",
       "    .dataframe tbody tr th {\n",
       "        vertical-align: top;\n",
       "    }\n",
       "\n",
       "    .dataframe thead th {\n",
       "        text-align: right;\n",
       "    }\n",
       "</style>\n",
       "<table border=\"1\" class=\"dataframe\">\n",
       "  <thead>\n",
       "    <tr style=\"text-align: right;\">\n",
       "      <th></th>\n",
       "      <th>id</th>\n",
       "      <th>userid</th>\n",
       "      <th>trackedat</th>\n",
       "      <th>mood</th>\n",
       "      <th>reasonid</th>\n",
       "    </tr>\n",
       "  </thead>\n",
       "  <tbody>\n",
       "    <tr>\n",
       "      <th>0</th>\n",
       "      <td>f0ed2548-dc73-45be-ac19-005331bfdd70</td>\n",
       "      <td>05733a01-7fda-4295-8ca4-1962ec5df898</td>\n",
       "      <td>2020-01-09 02:55:06</td>\n",
       "      <td>ok</td>\n",
       "      <td>57d9dc1ee66d040ed4e496a9</td>\n",
       "    </tr>\n",
       "  </tbody>\n",
       "</table>\n",
       "</div>"
      ],
      "text/plain": [
       "                                     id                                userid  \\\n",
       "0  f0ed2548-dc73-45be-ac19-005331bfdd70  05733a01-7fda-4295-8ca4-1962ec5df898   \n",
       "\n",
       "             trackedat mood                  reasonid  \n",
       "0  2020-01-09 02:55:06   ok  57d9dc1ee66d040ed4e496a9  "
      ]
     },
     "execution_count": 26,
     "metadata": {},
     "output_type": "execute_result"
    }
   ],
   "source": [
    "moodtracker.head(1)"
   ]
  },
  {
   "cell_type": "code",
   "execution_count": 27,
   "metadata": {},
   "outputs": [],
   "source": [
    "# Create psql engine for SQLalchemy\n",
    "engine = create_psql_engine()\n",
    "\n",
    "# Write tables to db\n",
    "users.to_sql('users', engine, if_exists='replace', index=False)\n",
    "moodtracker.to_sql('moodtracker', engine, if_exists='replace',index=False)"
   ]
  }
 ],
 "metadata": {
  "kernelspec": {
   "display_name": "Python 3",
   "language": "python",
   "name": "python3"
  },
  "language_info": {
   "codemirror_mode": {
    "name": "ipython",
    "version": 3
   },
   "file_extension": ".py",
   "mimetype": "text/x-python",
   "name": "python",
   "nbconvert_exporter": "python",
   "pygments_lexer": "ipython3",
   "version": "3.7.5"
  }
 },
 "nbformat": 4,
 "nbformat_minor": 4
}
